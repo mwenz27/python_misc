{
 "cells": [
  {
   "cell_type": "code",
   "execution_count": 1,
   "metadata": {},
   "outputs": [
    {
     "name": "stdout",
     "output_type": "stream",
     "text": [
      " Volume in drive C has no label.\n",
      " Volume Serial Number is E411-BCD7\n",
      "\n",
      " Directory of C:\\Users\\Ninja\\Documents\\Python Scripts\\python_misc\\pandas_udemy\n",
      "\n",
      "18/08/2019  06:44 PM    <DIR>          .\n",
      "18/08/2019  06:44 PM    <DIR>          ..\n",
      "18/08/2019  06:44 PM    <DIR>          .ipynb_checkpoints\n",
      "18/08/2019  06:44 PM                72 pandas_merge_cat.ipynb\n",
      "18/08/2019  06:44 PM    <DIR>          sheets\n",
      "               1 File(s)             72 bytes\n",
      "               4 Dir(s)  111,686,017,024 bytes free\n"
     ]
    }
   ],
   "source": [
    "!dir"
   ]
  },
  {
   "cell_type": "code",
   "execution_count": 4,
   "metadata": {},
   "outputs": [
    {
     "name": "stdout",
     "output_type": "stream",
     "text": [
      " Volume in drive C has no label.\n",
      " Volume Serial Number is E411-BCD7\n",
      "\n",
      " Directory of C:\\Users\\Ninja\\Documents\\Python Scripts\\python_misc\\pandas_udemy\\sheets\n",
      "\n",
      "18/08/2019  06:46 PM    <DIR>          .\n",
      "18/08/2019  06:46 PM    <DIR>          ..\n",
      "30/08/2016  07:49 PM            13,432 bigmac.csv\n",
      "08/08/2016  02:51 PM         1,868,632 chicago.csv\n",
      "13/09/2016  12:25 PM             9,674 Data - Multiple Worksheets.xlsx\n",
      "13/09/2016  12:23 PM             8,803 Data - Single Worksheet.xlsx\n",
      "05/08/2016  04:06 PM            10,421 ecommerce.csv\n",
      "28/07/2016  07:42 PM            59,175 employees.csv\n",
      "04/08/2016  10:15 AM            43,969 foods.csv\n",
      "06/08/2016  11:34 AM            88,633 fortune1000.csv\n",
      "07/08/2016  04:42 PM            23,550 google_stock_price.csv\n",
      "24/08/2016  03:00 PM             1,695 jamesbond.csv\n",
      "31/08/2016  03:18 PM            32,823 nba.csv\n",
      "29/08/2016  02:36 PM            10,569 pokemon.csv\n",
      "03/08/2016  11:24 PM               326 quarters.csv\n",
      "30/07/2016  12:21 PM            50,885 Restaurant - Customers.csv\n",
      "05/08/2016  07:18 PM               173 Restaurant - Foods.csv\n",
      "11/09/2016  06:13 PM             1,511 Restaurant - Week 1 Sales.csv\n",
      "05/08/2016  09:10 PM               789 Restaurant - Week 1 Satisfaction.csv\n",
      "30/07/2016  12:22 PM             1,533 Restaurant - Week 2 Sales.csv\n",
      "02/08/2016  05:16 PM               228 revenue.csv\n",
      "30/07/2016  03:54 PM            34,872 salesmen.csv\n",
      "30/08/2016  10:57 PM           510,136 worldstats.csv\n",
      "              21 File(s)      2,771,829 bytes\n",
      "               2 Dir(s)  111,682,433,024 bytes free\n"
     ]
    }
   ],
   "source": [
    "!dir sheets"
   ]
  },
  {
   "cell_type": "code",
   "execution_count": 3,
   "metadata": {},
   "outputs": [],
   "source": [
    "import pandas as pd"
   ]
  },
  {
   "cell_type": "code",
   "execution_count": 7,
   "metadata": {},
   "outputs": [],
   "source": [
    "week1 = pd.read_csv(\"sheets/Restaurant - Week 1 Sales.csv\")\n",
    "week2 = pd.read_csv(\"sheets/Restaurant - Week 2 Sales.csv\")\n",
    "customers = pd.read_csv(\"sheets/Restaurant - Customers.csv\")\n",
    "foods = pd.read_csv(\"sheets/Restaurant - Foods.csv\")"
   ]
  },
  {
   "cell_type": "code",
   "execution_count": 8,
   "metadata": {},
   "outputs": [
    {
     "data": {
      "text/html": [
       "<div>\n",
       "<style scoped>\n",
       "    .dataframe tbody tr th:only-of-type {\n",
       "        vertical-align: middle;\n",
       "    }\n",
       "\n",
       "    .dataframe tbody tr th {\n",
       "        vertical-align: top;\n",
       "    }\n",
       "\n",
       "    .dataframe thead th {\n",
       "        text-align: right;\n",
       "    }\n",
       "</style>\n",
       "<table border=\"1\" class=\"dataframe\">\n",
       "  <thead>\n",
       "    <tr style=\"text-align: right;\">\n",
       "      <th></th>\n",
       "      <th>Food ID</th>\n",
       "      <th>Food Item</th>\n",
       "      <th>Price</th>\n",
       "    </tr>\n",
       "  </thead>\n",
       "  <tbody>\n",
       "    <tr>\n",
       "      <th>0</th>\n",
       "      <td>1</td>\n",
       "      <td>Sushi</td>\n",
       "      <td>3.99</td>\n",
       "    </tr>\n",
       "    <tr>\n",
       "      <th>1</th>\n",
       "      <td>2</td>\n",
       "      <td>Burrito</td>\n",
       "      <td>9.99</td>\n",
       "    </tr>\n",
       "    <tr>\n",
       "      <th>2</th>\n",
       "      <td>3</td>\n",
       "      <td>Taco</td>\n",
       "      <td>2.99</td>\n",
       "    </tr>\n",
       "    <tr>\n",
       "      <th>3</th>\n",
       "      <td>4</td>\n",
       "      <td>Quesadilla</td>\n",
       "      <td>4.25</td>\n",
       "    </tr>\n",
       "    <tr>\n",
       "      <th>4</th>\n",
       "      <td>5</td>\n",
       "      <td>Pizza</td>\n",
       "      <td>2.49</td>\n",
       "    </tr>\n",
       "  </tbody>\n",
       "</table>\n",
       "</div>"
      ],
      "text/plain": [
       "   Food ID   Food Item  Price\n",
       "0        1       Sushi   3.99\n",
       "1        2     Burrito   9.99\n",
       "2        3        Taco   2.99\n",
       "3        4  Quesadilla   4.25\n",
       "4        5       Pizza   2.49"
      ]
     },
     "execution_count": 8,
     "metadata": {},
     "output_type": "execute_result"
    }
   ],
   "source": [
    "foods.head()"
   ]
  },
  {
   "cell_type": "code",
   "execution_count": 9,
   "metadata": {},
   "outputs": [
    {
     "data": {
      "text/html": [
       "<div>\n",
       "<style scoped>\n",
       "    .dataframe tbody tr th:only-of-type {\n",
       "        vertical-align: middle;\n",
       "    }\n",
       "\n",
       "    .dataframe tbody tr th {\n",
       "        vertical-align: top;\n",
       "    }\n",
       "\n",
       "    .dataframe thead th {\n",
       "        text-align: right;\n",
       "    }\n",
       "</style>\n",
       "<table border=\"1\" class=\"dataframe\">\n",
       "  <thead>\n",
       "    <tr style=\"text-align: right;\">\n",
       "      <th></th>\n",
       "      <th>Customer ID</th>\n",
       "      <th>Food ID</th>\n",
       "    </tr>\n",
       "  </thead>\n",
       "  <tbody>\n",
       "    <tr>\n",
       "      <th>0</th>\n",
       "      <td>537</td>\n",
       "      <td>9</td>\n",
       "    </tr>\n",
       "    <tr>\n",
       "      <th>1</th>\n",
       "      <td>97</td>\n",
       "      <td>4</td>\n",
       "    </tr>\n",
       "    <tr>\n",
       "      <th>2</th>\n",
       "      <td>658</td>\n",
       "      <td>1</td>\n",
       "    </tr>\n",
       "    <tr>\n",
       "      <th>3</th>\n",
       "      <td>202</td>\n",
       "      <td>2</td>\n",
       "    </tr>\n",
       "    <tr>\n",
       "      <th>4</th>\n",
       "      <td>155</td>\n",
       "      <td>9</td>\n",
       "    </tr>\n",
       "  </tbody>\n",
       "</table>\n",
       "</div>"
      ],
      "text/plain": [
       "   Customer ID  Food ID\n",
       "0          537        9\n",
       "1           97        4\n",
       "2          658        1\n",
       "3          202        2\n",
       "4          155        9"
      ]
     },
     "execution_count": 9,
     "metadata": {},
     "output_type": "execute_result"
    }
   ],
   "source": [
    "week1.head()"
   ]
  },
  {
   "cell_type": "code",
   "execution_count": 12,
   "metadata": {},
   "outputs": [
    {
     "name": "stdout",
     "output_type": "stream",
     "text": [
      "250\n",
      "250\n",
      "500\n",
      "500\n"
     ]
    }
   ],
   "source": [
    "print(len(week1))\n",
    "print(len(week2))\n",
    "print(len(pd.concat([week1, week2], ignore_index= True)))\n",
    "print(len(pd.concat([week1, week2], ignore_index= False)))"
   ]
  },
  {
   "cell_type": "code",
   "execution_count": 17,
   "metadata": {},
   "outputs": [],
   "source": [
    "sales = pd.concat([week1, week2], keys= [\"A\", \"B\"])"
   ]
  },
  {
   "cell_type": "code",
   "execution_count": null,
   "metadata": {},
   "outputs": [],
   "source": []
  }
 ],
 "metadata": {
  "kernelspec": {
   "display_name": "Python 3",
   "language": "python",
   "name": "python3"
  },
  "language_info": {
   "codemirror_mode": {
    "name": "ipython",
    "version": 3
   },
   "file_extension": ".py",
   "mimetype": "text/x-python",
   "name": "python",
   "nbconvert_exporter": "python",
   "pygments_lexer": "ipython3",
   "version": "3.7.1"
  }
 },
 "nbformat": 4,
 "nbformat_minor": 2
}
