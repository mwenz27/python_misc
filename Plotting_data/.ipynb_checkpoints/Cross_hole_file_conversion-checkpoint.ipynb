{
 "cells": [
  {
   "cell_type": "markdown",
   "metadata": {},
   "source": [
    "# Replacing files"
   ]
  },
  {
   "cell_type": "code",
   "execution_count": 7,
   "metadata": {},
   "outputs": [],
   "source": [
    "import os"
   ]
  },
  {
   "cell_type": "code",
   "execution_count": 17,
   "metadata": {},
   "outputs": [],
   "source": [
    "cross_hole_4 = {\n",
    "    \"name\": \"BH_4_2\",\n",
    "    \n",
    "    \"Source X\": 66577.570,\n",
    "    \"Source Y\": 263817.322,\n",
    "    \"Rec X\": 66588.856,\n",
    "    \"Rec Y\": 263816.480,\n",
    "\n",
    "    \"Part 1\": [13, 29.379],\n",
    "    \"Part 2\": [12, 28.379],\n",
    "\n",
    "}\n",
    "\n",
    "cross_hole_5 = {\n",
    "     \"name\": \"BH_5_2\",\n",
    "\n",
    "    \"Source X\": 66579.701,\n",
    "    \"Source Y\": 263809.185,\n",
    "    \"Rec X\": 66588.856,\n",
    "    \"Rec Y\": 263816.48,\n",
    "\n",
    "    \"Part 1\": [13, 29.379],\n",
    "    \"Part 2\": [12, 28.379],\n",
    "\n",
    "}\n"
   ]
  },
  {
   "cell_type": "code",
   "execution_count": 18,
   "metadata": {},
   "outputs": [
    {
     "name": "stdout",
     "output_type": "stream",
     "text": [
      "200101 200201 5.544\n",
      "200102 200202 6.544\n",
      "200103 200203 7.544\n",
      "200104 200204 8.544\n",
      "200105 200205 9.544\n",
      "200106 200206 10.544\n",
      "200107 200207 11.544\n",
      "200108 200208 12.544\n",
      "200109 200209 13.544\n",
      "200110 200210 14.544\n",
      "200111 200211 15.544\n",
      "200112 200212 16.544\n",
      "200113 200213 17.544\n",
      "200114 200214 18.544\n",
      "200115 200215 19.544\n",
      "200116 200216 20.544\n",
      "200117 200217 21.544\n",
      "200118 200218 22.544\n",
      "200119 200219 23.544\n",
      "200120 200220 24.544\n",
      "200121 200221 25.544\n",
      "200122 200222 26.544\n",
      "200123 200223 27.544\n",
      "200124 200224 28.544\n"
     ]
    }
   ],
   "source": [
    "c4_start_num_1 = 200101\n",
    "c4_start_num_2 = 200201\n",
    "c4_start_depth = 5.544\n",
    "for i in range(24):\n",
    "    print(c4_start_num_1, c4_start_num_2, c4_start_depth)\n",
    "    cross_hole_4[str(c4_start_num_1)] = c4_start_depth\n",
    "    cross_hole_4[str(c4_start_num_2)] = c4_start_depth\n",
    "    c4_start_num_1 += 1\n",
    "    c4_start_num_2 += 1\n",
    "    c4_start_depth += 1"
   ]
  },
  {
   "cell_type": "code",
   "execution_count": 19,
   "metadata": {},
   "outputs": [
    {
     "name": "stdout",
     "output_type": "stream",
     "text": [
      "300101 300201 5.58\n",
      "300102 300202 6.58\n",
      "300103 300203 7.58\n",
      "300104 300204 8.58\n",
      "300105 300205 9.58\n",
      "300106 300206 10.58\n",
      "300107 300207 11.58\n",
      "300108 300208 12.58\n",
      "300109 300209 13.58\n",
      "300110 300210 14.58\n",
      "300111 300211 15.58\n",
      "300112 300212 16.58\n",
      "300113 300213 17.58\n",
      "300114 300214 18.58\n",
      "300115 300215 19.58\n",
      "300116 300216 20.58\n",
      "300117 300217 21.58\n",
      "300118 300218 22.58\n",
      "300119 300219 23.58\n",
      "300120 300220 24.58\n",
      "300121 300221 25.58\n",
      "300122 300222 26.58\n",
      "300123 300223 27.58\n",
      "300124 300224 28.58\n"
     ]
    }
   ],
   "source": [
    "c5_start_num_1 = 300101\n",
    "c5_start_num_2 = 300201\n",
    "c5_start_depth = 5.580\n",
    "for i in range(24):\n",
    "    print(c5_start_num_1, c5_start_num_2, c5_start_depth)\n",
    "\n",
    "    cross_hole_5[str(c5_start_num_1)] = c5_start_depth\n",
    "    cross_hole_5[str(c5_start_num_2)] = c5_start_depth\n",
    "    c5_start_num_1 += 1\n",
    "    c5_start_num_2 += 1\n",
    "    c5_start_depth += 1"
   ]
  },
  {
   "cell_type": "code",
   "execution_count": 20,
   "metadata": {},
   "outputs": [
    {
     "data": {
      "text/plain": [
       "28.58"
      ]
     },
     "execution_count": 20,
     "metadata": {},
     "output_type": "execute_result"
    }
   ],
   "source": [
    "cross_hole_5['300124']"
   ]
  },
  {
   "cell_type": "code",
   "execution_count": 21,
   "metadata": {},
   "outputs": [
    {
     "name": "stdout",
     "output_type": "stream",
     "text": [
      "name BH_4_2\n",
      "Source X 66577.57\n",
      "Source Y 263817.322\n",
      "Rec X 66588.856\n",
      "Rec Y 263816.48\n",
      "Part 1 [13, 29.379]\n",
      "Part 2 [12, 28.379]\n",
      "200101 5.544\n",
      "200201 5.544\n",
      "200102 6.544\n",
      "200202 6.544\n",
      "200103 7.544\n",
      "200203 7.544\n",
      "200104 8.544\n",
      "200204 8.544\n",
      "200105 9.544\n",
      "200205 9.544\n",
      "200106 10.544\n",
      "200206 10.544\n",
      "200107 11.544\n",
      "200207 11.544\n",
      "200108 12.544\n",
      "200208 12.544\n",
      "200109 13.544\n",
      "200209 13.544\n",
      "200110 14.544\n",
      "200210 14.544\n",
      "200111 15.544\n",
      "200211 15.544\n",
      "200112 16.544\n",
      "200212 16.544\n",
      "200113 17.544\n",
      "200213 17.544\n",
      "200114 18.544\n",
      "200214 18.544\n",
      "200115 19.544\n",
      "200215 19.544\n",
      "200116 20.544\n",
      "200216 20.544\n",
      "200117 21.544\n",
      "200217 21.544\n",
      "200118 22.544\n",
      "200218 22.544\n",
      "200119 23.544\n",
      "200219 23.544\n",
      "200120 24.544\n",
      "200220 24.544\n",
      "200121 25.544\n",
      "200221 25.544\n",
      "200122 26.544\n",
      "200222 26.544\n",
      "200123 27.544\n",
      "200223 27.544\n",
      "200124 28.544\n",
      "200224 28.544\n"
     ]
    }
   ],
   "source": [
    "for key, value in cross_hole_4.items():\n",
    "    print(key, value)"
   ]
  },
  {
   "cell_type": "code",
   "execution_count": 5,
   "metadata": {},
   "outputs": [],
   "source": [
    "def end_string(data_list):\n",
    "    new_string = \"\"\n",
    "    for number in data_list[7:15]:\n",
    "        new_string += \" \"*5 + number \n",
    "    return new_string\n",
    "\n",
    "\n",
    "def inserting_reference_to_files(cross_hole_num, part, path, optional_string=\"\"):\n",
    "    '''\n",
    "    input dictionary\n",
    "    \"Part 1\"  either 1 or 2\n",
    "    input path\n",
    "    '''\n",
    "    file_list_part = os.listdir(path)\n",
    "    C3PK_file_part = [line for line in file_list_part if '.3PK' in line]\n",
    "    part_dict = f'Part {part}'\n",
    "    print(part_dict)\n",
    "    cross_hole = cross_hole_num\n",
    "    name = cross_hole['name']\n",
    "    processed_path = path + f\"{name}-{part}_processed{optional_string}\\\\\"\n",
    "    try:\n",
    "        os.mkdir(processed_path)\n",
    "        print(\"Processed path is created\")\n",
    "    except:\n",
    "        print(\"Processed Folder already exists\")\n",
    "\n",
    "    for file in C3PK_file_part:\n",
    "        name_of_file = file[:6]            ######## name of the file   \n",
    "        print(name_of_file)        \n",
    "        \n",
    "        with open(f\"{path}{file}\", 'r') as file_read:\n",
    "            data = file_read.readlines()   ######## all lines\n",
    "            #print(data[0])                 ####### read one line to check\n",
    "\n",
    "        output_file = f\"{processed_path}{file}\"\n",
    "        #print(output_file)\n",
    "        \n",
    "        if os.path.exists(output_file):\n",
    "            #print(\"Removing exiisting file, creating again\\n\")\n",
    "            os.remove(output_file)\n",
    "                     \n",
    "        with open(output_file, 'a') as file_out:\n",
    "            for key in range(len(data)):               ###############  break each line in reference to the length\n",
    "                \n",
    "                data_line = data[key]                  ########## select the line to write\n",
    "                data_list = data_line.split()           ########### split the line into a list\n",
    "       \n",
    "                s = \" \"\n",
    "                s_x = round(cross_hole[\"Source X\"], 3)\n",
    "                s_y = round(cross_hole[\"Source Y\"], 3)\n",
    "                r_x = round(cross_hole[\"Rec X\"], 3)\n",
    "                r_y = round(cross_hole[\"Rec Y\"], 3)\n",
    "                depth = round(cross_hole[name_of_file],3)\n",
    "                r_depth_chan = round(cross_hole[part_dict][1]-2*key, 3)\n",
    "                if len(str(key+1)) == 1:\n",
    "                    front = s*5\n",
    "                elif len(str(key+1)) == 2:\n",
    "                    front = s*4\n",
    "                new_one_line = f'{front}{key+1}{s*4}{s_x}{s*3}{s_y}{s*7}{depth}{s*6}{r_x}{s*2}{r_y}{s*3}{r_depth_chan}{s*6}{end_string(data_list)}'\n",
    "                if key+1 < len(data):\n",
    "#                     print(key+1, len(data))\n",
    "                    file_out.write(new_one_line+ \"\\n\")\n",
    "                elif key+1 == len(data):\n",
    "                    #print(\"last line\")\n",
    "                    file_out.write(new_one_line)"
   ]
  },
  {
   "cell_type": "code",
   "execution_count": 8,
   "metadata": {},
   "outputs": [
    {
     "name": "stdout",
     "output_type": "stream",
     "text": [
      "Part 1\n",
      "Processed Folder already exists\n",
      "200101\n",
      "200102\n",
      "200103\n",
      "200104\n",
      "200105\n",
      "200106\n",
      "200107\n",
      "200108\n",
      "200109\n",
      "200110\n",
      "200111\n",
      "200112\n",
      "200113\n",
      "200114\n",
      "200115\n",
      "200116\n",
      "200117\n",
      "200118\n",
      "200119\n",
      "200120\n",
      "200121\n",
      "200122\n",
      "200123\n",
      "200124\n"
     ]
    }
   ],
   "source": [
    "part1_path = \"C:\\\\Dundass_Road_Crosshole\\\\BH4_2\\\\Config1\\\\\"\n",
    "inserting_reference_to_files(cross_hole_4, 1, part1_path, \"_test2\")"
   ]
  },
  {
   "cell_type": "code",
   "execution_count": 16,
   "metadata": {},
   "outputs": [
    {
     "name": "stdout",
     "output_type": "stream",
     "text": [
      "Part 2\n",
      "Processed path is created\n",
      "200201\n",
      "200202\n",
      "200203\n",
      "200204\n",
      "200205\n",
      "200206\n",
      "200207\n",
      "200208\n",
      "200209\n",
      "200210\n",
      "200211\n",
      "200212\n",
      "200213\n",
      "200214\n",
      "200215\n",
      "200216\n",
      "200217\n",
      "200218\n",
      "200219\n",
      "200220\n",
      "200221\n",
      "200222\n",
      "200223\n",
      "200224\n"
     ]
    }
   ],
   "source": [
    "part2_path = \"C:\\\\Dundass_Road_Crosshole\\\\BH4_2\\\\Config2\\\\\"\n",
    "inserting_reference_to_files(cross_hole_4, 2, part2_path)"
   ]
  },
  {
   "cell_type": "code",
   "execution_count": 27,
   "metadata": {},
   "outputs": [
    {
     "name": "stdout",
     "output_type": "stream",
     "text": [
      "Part 1\n",
      "Processed Folder already exists\n",
      "300101\n",
      "300102\n",
      "300103\n",
      "300104\n",
      "300105\n",
      "300106\n",
      "300107\n",
      "300108\n",
      "300109\n",
      "300110\n",
      "300111\n",
      "300112\n",
      "300113\n",
      "300114\n",
      "300115\n",
      "300116\n",
      "300117\n",
      "300118\n",
      "300119\n",
      "300120\n",
      "300121\n",
      "300122\n",
      "300123\n",
      "300124\n"
     ]
    }
   ],
   "source": [
    "c5_part1_path = \"C:\\\\Dundass_Road_Crosshole\\\\BH5_2\\\\Config1\\\\\"\n",
    "inserting_reference_to_files(cross_hole_5, 1, c5_part1_path)"
   ]
  },
  {
   "cell_type": "code",
   "execution_count": 28,
   "metadata": {},
   "outputs": [
    {
     "name": "stdout",
     "output_type": "stream",
     "text": [
      "Part 2\n",
      "Processed path is created\n",
      "300201\n",
      "300202\n",
      "300203\n",
      "300204\n",
      "300205\n",
      "300206\n",
      "300207\n",
      "300208\n",
      "300209\n",
      "300210\n",
      "300211\n",
      "300212\n",
      "300213\n",
      "300214\n",
      "300215\n",
      "300216\n",
      "300217\n",
      "300218\n",
      "300219\n",
      "300220\n",
      "300221\n",
      "300222\n",
      "300223\n",
      "300224\n"
     ]
    }
   ],
   "source": [
    "c5_part2_path = \"C:\\\\Dundass_Road_Crosshole\\\\BH5_2\\\\Config2\\\\\"\n",
    "inserting_reference_to_files(cross_hole_5, 2, c5_part2_path)"
   ]
  },
  {
   "cell_type": "code",
   "execution_count": 29,
   "metadata": {},
   "outputs": [],
   "source": [
    "cross_hole_5_3 = {\n",
    "     \"name\": \"BH_5_3\",\n",
    "\n",
    "    \"Source X\": 66579.701,\n",
    "    \"Source Y\": 263809.185,\n",
    "    \"Rec X\": 66590.932,\n",
    "    \"Rec Y\": 263806.530,\n",
    "\n",
    "    \"Part 1\": [13, 29.412],\n",
    "    \"Part 2\": [12, 28.412],\n",
    "\n",
    "}\n"
   ]
  },
  {
   "cell_type": "code",
   "execution_count": 32,
   "metadata": {},
   "outputs": [
    {
     "name": "stdout",
     "output_type": "stream",
     "text": [
      "400101 400201 5.58\n",
      "400102 400202 6.58\n",
      "400103 400203 7.58\n",
      "400104 400204 8.58\n",
      "400105 400205 9.58\n",
      "400106 400206 10.58\n",
      "400107 400207 11.58\n",
      "400108 400208 12.58\n",
      "400109 400209 13.58\n",
      "400110 400210 14.58\n",
      "400111 400211 15.58\n",
      "400112 400212 16.58\n",
      "400113 400213 17.58\n",
      "400114 400214 18.58\n",
      "400115 400215 19.58\n",
      "400116 400216 20.58\n",
      "400117 400217 21.58\n",
      "400118 400218 22.58\n",
      "400119 400219 23.58\n",
      "400120 400220 24.58\n",
      "400121 400221 25.58\n",
      "400122 400222 26.58\n",
      "400123 400223 27.58\n",
      "400124 400224 28.58\n"
     ]
    }
   ],
   "source": [
    "c5_3_start_num_1 = 400101\n",
    "c5_3_start_num_2 = 400201\n",
    "c5_3_start_depth = 5.580\n",
    "for i in range(24):\n",
    "    print(c5_3_start_num_1, c5_3_start_num_2, c5_3_start_depth)\n",
    "\n",
    "    cross_hole_5_3[str(c5_3_start_num_1)] = c5_3_start_depth\n",
    "    cross_hole_5_3[str(c5_3_start_num_2)] = c5_3_start_depth\n",
    "    c5_3_start_num_1 += 1\n",
    "    c5_3_start_num_2 += 1\n",
    "    c5_3_start_depth += 1"
   ]
  },
  {
   "cell_type": "code",
   "execution_count": 33,
   "metadata": {},
   "outputs": [
    {
     "name": "stdout",
     "output_type": "stream",
     "text": [
      "name BH_5_3\n",
      "Source X 66579.701\n",
      "Source Y 263809.185\n",
      "Rec X 66590.932\n",
      "Rec Y 263806.53\n",
      "Part 1 [13, 29.412]\n",
      "Part 2 [12, 28.412]\n",
      "300125 28.58\n",
      "300225 28.58\n",
      "400101 5.58\n",
      "400201 5.58\n",
      "400102 6.58\n",
      "400202 6.58\n",
      "400103 7.58\n",
      "400203 7.58\n",
      "400104 8.58\n",
      "400204 8.58\n",
      "400105 9.58\n",
      "400205 9.58\n",
      "400106 10.58\n",
      "400206 10.58\n",
      "400107 11.58\n",
      "400207 11.58\n",
      "400108 12.58\n",
      "400208 12.58\n",
      "400109 13.58\n",
      "400209 13.58\n",
      "400110 14.58\n",
      "400210 14.58\n",
      "400111 15.58\n",
      "400211 15.58\n",
      "400112 16.58\n",
      "400212 16.58\n",
      "400113 17.58\n",
      "400213 17.58\n",
      "400114 18.58\n",
      "400214 18.58\n",
      "400115 19.58\n",
      "400215 19.58\n",
      "400116 20.58\n",
      "400216 20.58\n",
      "400117 21.58\n",
      "400217 21.58\n",
      "400118 22.58\n",
      "400218 22.58\n",
      "400119 23.58\n",
      "400219 23.58\n",
      "400120 24.58\n",
      "400220 24.58\n",
      "400121 25.58\n",
      "400221 25.58\n",
      "400122 26.58\n",
      "400222 26.58\n",
      "400123 27.58\n",
      "400223 27.58\n",
      "400124 28.58\n",
      "400224 28.58\n"
     ]
    }
   ],
   "source": [
    "for key, value in cross_hole_5_3.items():\n",
    "    print(key, value)"
   ]
  },
  {
   "cell_type": "code",
   "execution_count": 39,
   "metadata": {},
   "outputs": [
    {
     "name": "stdout",
     "output_type": "stream",
     "text": [
      "Part 1\n",
      "Processed Folder already exists\n",
      "400101\n",
      "400102\n",
      "400103\n",
      "400104\n",
      "400105\n",
      "400106\n",
      "400107\n",
      "400108\n",
      "400109\n",
      "400110\n",
      "400111\n",
      "400112\n",
      "400113\n",
      "400114\n",
      "400115\n",
      "400116\n",
      "400117\n",
      "400118\n",
      "400119\n",
      "400120\n",
      "400121\n",
      "400122\n",
      "400123\n",
      "400124\n"
     ]
    }
   ],
   "source": [
    "c5_3_part1_path = \"C:\\\\Dundass_Road_Crosshole\\\\BH5_3\\\\Config_1\\\\\"\n",
    "inserting_reference_to_files(cross_hole_5_3, 1, c5_3_part1_path)"
   ]
  },
  {
   "cell_type": "code",
   "execution_count": 42,
   "metadata": {
    "scrolled": false
   },
   "outputs": [
    {
     "name": "stdout",
     "output_type": "stream",
     "text": [
      "Part 2\n",
      "Processed Folder already exists\n",
      "400201\n",
      "400202\n",
      "400203\n",
      "400204\n",
      "400205\n",
      "400206\n",
      "400207\n",
      "400208\n",
      "400209\n",
      "400210\n",
      "400211\n",
      "400212\n",
      "400213\n",
      "400214\n",
      "400215\n",
      "400216\n",
      "400217\n",
      "400218\n",
      "400219\n",
      "400220\n",
      "400221\n",
      "400222\n",
      "400223\n"
     ]
    }
   ],
   "source": [
    "c5_3_part2_path = \"C:\\\\Dundass_Road_Crosshole\\\\BH5_3\\\\Config_2\\\\\"\n",
    "inserting_reference_to_files(cross_hole_5_3, 2, c5_3_part2_path)"
   ]
  },
  {
   "cell_type": "code",
   "execution_count": null,
   "metadata": {},
   "outputs": [],
   "source": []
  },
  {
   "cell_type": "code",
   "execution_count": 1,
   "metadata": {},
   "outputs": [],
   "source": [
    "cross_hole_4_1 = {\n",
    "     \"name\": \"BH_4_1\",\n",
    "\n",
    "    \"Source X\": 66577.570,\n",
    "    \"Source Y\": 263817.322,\n",
    "    \"Rec X\": 66586.449,\n",
    "    \"Rec Y\": 263826.195,\n",
    "\n",
    "    \"Part 1\": [13, 29.360],\n",
    "    \"Part 2\": [12, 28.360],\n",
    "\n",
    "}\n"
   ]
  },
  {
   "cell_type": "code",
   "execution_count": 2,
   "metadata": {},
   "outputs": [
    {
     "name": "stdout",
     "output_type": "stream",
     "text": [
      "100101 100201 5.544\n",
      "100102 100202 6.544\n",
      "100103 100203 7.544\n",
      "100104 100204 8.544\n",
      "100105 100205 9.544\n",
      "100106 100206 10.544\n",
      "100107 100207 11.544\n",
      "100108 100208 12.544\n",
      "100109 100209 13.544\n",
      "100110 100210 14.544\n",
      "100111 100211 15.544\n",
      "100112 100212 16.544\n",
      "100113 100213 17.544\n",
      "100114 100214 18.544\n",
      "100115 100215 19.544\n",
      "100116 100216 20.544\n",
      "100117 100217 21.544\n",
      "100118 100218 22.544\n",
      "100119 100219 23.544\n",
      "100120 100220 24.544\n",
      "100121 100221 25.544\n",
      "100122 100222 26.544\n",
      "100123 100223 27.544\n",
      "100124 100224 28.544\n"
     ]
    }
   ],
   "source": [
    "c4_1_start_num_1 = 100101\n",
    "c4_1_start_num_2 = 100201\n",
    "c4_1_start_depth = 5.544\n",
    "for i in range(24):\n",
    "    print(c4_1_start_num_1, c4_1_start_num_2, c4_1_start_depth)\n",
    "\n",
    "    cross_hole_4_1[str(c4_1_start_num_1)] = c4_1_start_depth\n",
    "    cross_hole_4_1[str(c4_1_start_num_2)] = c4_1_start_depth\n",
    "    c4_1_start_num_1 += 1\n",
    "    c4_1_start_num_2 += 1\n",
    "    c4_1_start_depth += 1"
   ]
  },
  {
   "cell_type": "code",
   "execution_count": 3,
   "metadata": {},
   "outputs": [
    {
     "name": "stdout",
     "output_type": "stream",
     "text": [
      "name BH_4_1\n",
      "Source X 66577.57\n",
      "Source Y 263817.322\n",
      "Rec X 66586.449\n",
      "Rec Y 263826.195\n",
      "Part 1 [13, 29.36]\n",
      "Part 2 [12, 28.36]\n",
      "100101 5.544\n",
      "100201 5.544\n",
      "100102 6.544\n",
      "100202 6.544\n",
      "100103 7.544\n",
      "100203 7.544\n",
      "100104 8.544\n",
      "100204 8.544\n",
      "100105 9.544\n",
      "100205 9.544\n",
      "100106 10.544\n",
      "100206 10.544\n",
      "100107 11.544\n",
      "100207 11.544\n",
      "100108 12.544\n",
      "100208 12.544\n",
      "100109 13.544\n",
      "100209 13.544\n",
      "100110 14.544\n",
      "100210 14.544\n",
      "100111 15.544\n",
      "100211 15.544\n",
      "100112 16.544\n",
      "100212 16.544\n",
      "100113 17.544\n",
      "100213 17.544\n",
      "100114 18.544\n",
      "100214 18.544\n",
      "100115 19.544\n",
      "100215 19.544\n",
      "100116 20.544\n",
      "100216 20.544\n",
      "100117 21.544\n",
      "100217 21.544\n",
      "100118 22.544\n",
      "100218 22.544\n",
      "100119 23.544\n",
      "100219 23.544\n",
      "100120 24.544\n",
      "100220 24.544\n",
      "100121 25.544\n",
      "100221 25.544\n",
      "100122 26.544\n",
      "100222 26.544\n",
      "100123 27.544\n",
      "100223 27.544\n",
      "100124 28.544\n",
      "100224 28.544\n"
     ]
    }
   ],
   "source": [
    "for key, value in cross_hole_4_1.items():\n",
    "    print(key, value)"
   ]
  },
  {
   "cell_type": "code",
   "execution_count": 10,
   "metadata": {},
   "outputs": [
    {
     "name": "stdout",
     "output_type": "stream",
     "text": [
      "Part 1\n",
      "Processed Folder already exists\n",
      "100101\n",
      "100102\n",
      "100103\n",
      "100104\n",
      "100105\n",
      "100106\n",
      "100107\n",
      "100108\n",
      "100109\n",
      "100110\n",
      "100111\n",
      "100112\n",
      "100113\n",
      "100114\n",
      "100115\n",
      "100116\n",
      "100117\n",
      "100118\n",
      "100119\n",
      "100120\n",
      "100121\n",
      "100122\n",
      "100123\n",
      "100124\n"
     ]
    }
   ],
   "source": [
    "c4_1_part1_path = \"C:\\\\Dundass_Road_Crosshole\\\\BH4_1\\\\Config1\\\\\"\n",
    "inserting_reference_to_files(cross_hole_4_1, 1, c4_1_part1_path)"
   ]
  },
  {
   "cell_type": "code",
   "execution_count": 12,
   "metadata": {
    "scrolled": false
   },
   "outputs": [
    {
     "name": "stdout",
     "output_type": "stream",
     "text": [
      "Part 2\n",
      "Processed Folder already exists\n",
      "100201\n",
      "100202\n",
      "100203\n",
      "100204\n",
      "100205\n",
      "100206\n",
      "100207\n",
      "100208\n",
      "100209\n",
      "100210\n",
      "100211\n",
      "100212\n",
      "100213\n",
      "100214\n",
      "100215\n",
      "100216\n",
      "100217\n",
      "100218\n",
      "100219\n",
      "100220\n",
      "100221\n",
      "100222\n",
      "100223\n"
     ]
    }
   ],
   "source": [
    "c4_1_part2_path = \"C:\\\\Dundass_Road_Crosshole\\\\BH4_1\\\\Config2\\\\\"\n",
    "inserting_reference_to_files(cross_hole_4_1, 2, c4_1_part2_path)"
   ]
  },
  {
   "cell_type": "code",
   "execution_count": null,
   "metadata": {},
   "outputs": [],
   "source": []
  }
 ],
 "metadata": {
  "kernelspec": {
   "display_name": "Python 3",
   "language": "python",
   "name": "python3"
  },
  "language_info": {
   "codemirror_mode": {
    "name": "ipython",
    "version": 3
   },
   "file_extension": ".py",
   "mimetype": "text/x-python",
   "name": "python",
   "nbconvert_exporter": "python",
   "pygments_lexer": "ipython3",
   "version": "3.7.1"
  }
 },
 "nbformat": 4,
 "nbformat_minor": 2
}
