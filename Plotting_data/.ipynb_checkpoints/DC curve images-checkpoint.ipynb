{
 "cells": [
  {
   "cell_type": "code",
   "execution_count": 1,
   "metadata": {},
   "outputs": [],
   "source": [
    "%matplotlib inline\n",
    "import numpy as np\n",
    "import pandas as pd\n",
    "import matplotlib.pyplot as plt"
   ]
  },
  {
   "cell_type": "code",
   "execution_count": 2,
   "metadata": {},
   "outputs": [
    {
     "name": "stdout",
     "output_type": "stream",
     "text": [
      " Volume in drive C has no label.\n",
      " Volume Serial Number is E411-BCD7\n",
      "\n",
      " Directory of C:\\Users\\Ninja\\Documents\\Python Scripts\\python_misc\\Plotting_data\n",
      "\n",
      "09/08/2019  03:52 PM    <DIR>          .\n",
      "09/08/2019  03:52 PM    <DIR>          ..\n",
      "09/08/2019  03:52 PM    <DIR>          .ipynb_checkpoints\n",
      "09/08/2019  03:52 PM            29,562 DC curve images.ipynb\n",
      "08/08/2019  05:40 PM             2,059 Line1(ActiveOT)(CombinedOT)(1001).DC\n",
      "08/08/2019  06:35 PM               496 Line1.DCT\n",
      "08/08/2019  08:07 AM               604 Line3.DCT\n",
      "               4 File(s)         32,721 bytes\n",
      "               3 Dir(s)  118,362,386,432 bytes free\n"
     ]
    }
   ],
   "source": [
    "!dir"
   ]
  },
  {
   "cell_type": "code",
   "execution_count": 3,
   "metadata": {},
   "outputs": [
    {
     "data": {
      "text/html": [
       "<div>\n",
       "<style scoped>\n",
       "    .dataframe tbody tr th:only-of-type {\n",
       "        vertical-align: middle;\n",
       "    }\n",
       "\n",
       "    .dataframe tbody tr th {\n",
       "        vertical-align: top;\n",
       "    }\n",
       "\n",
       "    .dataframe thead th {\n",
       "        text-align: right;\n",
       "    }\n",
       "</style>\n",
       "<table border=\"1\" class=\"dataframe\">\n",
       "  <thead>\n",
       "    <tr style=\"text-align: right;\">\n",
       "      <th></th>\n",
       "      <th></th>\n",
       "      <th></th>\n",
       "      <th>ndata 16 1</th>\n",
       "    </tr>\n",
       "  </thead>\n",
       "  <tbody>\n",
       "    <tr>\n",
       "      <th rowspan=\"16\" valign=\"top\">DATA</th>\n",
       "      <th>12.056</th>\n",
       "      <th>364.286</th>\n",
       "      <td>0.965</td>\n",
       "    </tr>\n",
       "    <tr>\n",
       "      <th>12.965</th>\n",
       "      <th>304.464</th>\n",
       "      <td>0.702</td>\n",
       "    </tr>\n",
       "    <tr>\n",
       "      <th>14.278</th>\n",
       "      <th>274.107</th>\n",
       "      <td>0.888</td>\n",
       "    </tr>\n",
       "    <tr>\n",
       "      <th>15.025</th>\n",
       "      <th>287.807</th>\n",
       "      <td>0.996</td>\n",
       "    </tr>\n",
       "    <tr>\n",
       "      <th>15.781</th>\n",
       "      <th>300.137</th>\n",
       "      <td>1.000</td>\n",
       "    </tr>\n",
       "    <tr>\n",
       "      <th>16.617</th>\n",
       "      <th>308.514</th>\n",
       "      <td>0.951</td>\n",
       "    </tr>\n",
       "    <tr>\n",
       "      <th>17.546</th>\n",
       "      <th>311.834</th>\n",
       "      <td>1.000</td>\n",
       "    </tr>\n",
       "    <tr>\n",
       "      <th>18.586</th>\n",
       "      <th>316.223</th>\n",
       "      <td>1.000</td>\n",
       "    </tr>\n",
       "    <tr>\n",
       "      <th>19.756</th>\n",
       "      <th>313.658</th>\n",
       "      <td>1.000</td>\n",
       "    </tr>\n",
       "    <tr>\n",
       "      <th>21.084</th>\n",
       "      <th>316.256</th>\n",
       "      <td>0.987</td>\n",
       "    </tr>\n",
       "    <tr>\n",
       "      <th>22.604</th>\n",
       "      <th>318.614</th>\n",
       "      <td>1.000</td>\n",
       "    </tr>\n",
       "    <tr>\n",
       "      <th>24.359</th>\n",
       "      <th>320.133</th>\n",
       "      <td>1.000</td>\n",
       "    </tr>\n",
       "    <tr>\n",
       "      <th>26.243</th>\n",
       "      <th>315.179</th>\n",
       "      <td>1.000</td>\n",
       "    </tr>\n",
       "    <tr>\n",
       "      <th>28.565</th>\n",
       "      <th>327.679</th>\n",
       "      <td>1.000</td>\n",
       "    </tr>\n",
       "    <tr>\n",
       "      <th>30.332</th>\n",
       "      <th>324.107</th>\n",
       "      <td>1.000</td>\n",
       "    </tr>\n",
       "    <tr>\n",
       "      <th>32.452</th>\n",
       "      <th>323.214</th>\n",
       "      <td>0.794</td>\n",
       "    </tr>\n",
       "    <tr>\n",
       "      <th>&gt;&gt;End</th>\n",
       "      <th>NaN</th>\n",
       "      <th>NaN</th>\n",
       "      <td>NaN</td>\n",
       "    </tr>\n",
       "  </tbody>\n",
       "</table>\n",
       "</div>"
      ],
      "text/plain": [
       "                      ndata 16 1\n",
       "DATA  12.056 364.286       0.965\n",
       "      12.965 304.464       0.702\n",
       "      14.278 274.107       0.888\n",
       "      15.025 287.807       0.996\n",
       "      15.781 300.137       1.000\n",
       "      16.617 308.514       0.951\n",
       "      17.546 311.834       1.000\n",
       "      18.586 316.223       1.000\n",
       "      19.756 313.658       1.000\n",
       "      21.084 316.256       0.987\n",
       "      22.604 318.614       1.000\n",
       "      24.359 320.133       1.000\n",
       "      26.243 315.179       1.000\n",
       "      28.565 327.679       1.000\n",
       "      30.332 324.107       1.000\n",
       "      32.452 323.214       0.794\n",
       ">>End NaN    NaN             NaN"
      ]
     },
     "execution_count": 3,
     "metadata": {},
     "output_type": "execute_result"
    }
   ],
   "source": [
    "df2 = pd.read_csv(\"Line3.DCT\", header=1, sep=\" \", delimiter='\\t')\n",
    "df2"
   ]
  },
  {
   "cell_type": "markdown",
   "metadata": {},
   "source": [
    "the data frame read is not correct, will need to modify it."
   ]
  },
  {
   "cell_type": "markdown",
   "metadata": {},
   "source": [
    "df = pd.read_csv(\"Line3.DCT\", header=1, sep=\" \", delimiter='\\t')\n",
    "df"
   ]
  },
  {
   "cell_type": "code",
   "execution_count": 8,
   "metadata": {},
   "outputs": [
    {
     "data": {
      "text/html": [
       "<div>\n",
       "<style scoped>\n",
       "    .dataframe tbody tr th:only-of-type {\n",
       "        vertical-align: middle;\n",
       "    }\n",
       "\n",
       "    .dataframe tbody tr th {\n",
       "        vertical-align: top;\n",
       "    }\n",
       "\n",
       "    .dataframe thead th {\n",
       "        text-align: right;\n",
       "    }\n",
       "</style>\n",
       "<table border=\"1\" class=\"dataframe\">\n",
       "  <thead>\n",
       "    <tr style=\"text-align: right;\">\n",
       "      <th></th>\n",
       "      <th>DATA</th>\n",
       "      <th>12.056000</th>\n",
       "      <th>364.286000</th>\n",
       "      <th>0.965000</th>\n",
       "    </tr>\n",
       "  </thead>\n",
       "  <tbody>\n",
       "    <tr>\n",
       "      <th>0</th>\n",
       "      <td>DATA</td>\n",
       "      <td>12.965</td>\n",
       "      <td>304.464</td>\n",
       "      <td>0.702</td>\n",
       "    </tr>\n",
       "    <tr>\n",
       "      <th>1</th>\n",
       "      <td>DATA</td>\n",
       "      <td>14.278</td>\n",
       "      <td>274.107</td>\n",
       "      <td>0.888</td>\n",
       "    </tr>\n",
       "    <tr>\n",
       "      <th>2</th>\n",
       "      <td>DATA</td>\n",
       "      <td>15.025</td>\n",
       "      <td>287.807</td>\n",
       "      <td>0.996</td>\n",
       "    </tr>\n",
       "    <tr>\n",
       "      <th>3</th>\n",
       "      <td>DATA</td>\n",
       "      <td>15.781</td>\n",
       "      <td>300.137</td>\n",
       "      <td>1.000</td>\n",
       "    </tr>\n",
       "    <tr>\n",
       "      <th>4</th>\n",
       "      <td>DATA</td>\n",
       "      <td>16.617</td>\n",
       "      <td>308.514</td>\n",
       "      <td>0.951</td>\n",
       "    </tr>\n",
       "    <tr>\n",
       "      <th>5</th>\n",
       "      <td>DATA</td>\n",
       "      <td>17.546</td>\n",
       "      <td>311.834</td>\n",
       "      <td>1.000</td>\n",
       "    </tr>\n",
       "    <tr>\n",
       "      <th>6</th>\n",
       "      <td>DATA</td>\n",
       "      <td>18.586</td>\n",
       "      <td>316.223</td>\n",
       "      <td>1.000</td>\n",
       "    </tr>\n",
       "    <tr>\n",
       "      <th>7</th>\n",
       "      <td>DATA</td>\n",
       "      <td>19.756</td>\n",
       "      <td>313.658</td>\n",
       "      <td>1.000</td>\n",
       "    </tr>\n",
       "    <tr>\n",
       "      <th>8</th>\n",
       "      <td>DATA</td>\n",
       "      <td>21.084</td>\n",
       "      <td>316.256</td>\n",
       "      <td>0.987</td>\n",
       "    </tr>\n",
       "    <tr>\n",
       "      <th>9</th>\n",
       "      <td>DATA</td>\n",
       "      <td>22.604</td>\n",
       "      <td>318.614</td>\n",
       "      <td>1.000</td>\n",
       "    </tr>\n",
       "    <tr>\n",
       "      <th>10</th>\n",
       "      <td>DATA</td>\n",
       "      <td>24.359</td>\n",
       "      <td>320.133</td>\n",
       "      <td>1.000</td>\n",
       "    </tr>\n",
       "    <tr>\n",
       "      <th>11</th>\n",
       "      <td>DATA</td>\n",
       "      <td>26.243</td>\n",
       "      <td>315.179</td>\n",
       "      <td>1.000</td>\n",
       "    </tr>\n",
       "    <tr>\n",
       "      <th>12</th>\n",
       "      <td>DATA</td>\n",
       "      <td>28.565</td>\n",
       "      <td>327.679</td>\n",
       "      <td>1.000</td>\n",
       "    </tr>\n",
       "    <tr>\n",
       "      <th>13</th>\n",
       "      <td>DATA</td>\n",
       "      <td>30.332</td>\n",
       "      <td>324.107</td>\n",
       "      <td>1.000</td>\n",
       "    </tr>\n",
       "    <tr>\n",
       "      <th>14</th>\n",
       "      <td>DATA</td>\n",
       "      <td>32.452</td>\n",
       "      <td>323.214</td>\n",
       "      <td>0.794</td>\n",
       "    </tr>\n",
       "    <tr>\n",
       "      <th>15</th>\n",
       "      <td>&gt;&gt;End</td>\n",
       "      <td>NaN</td>\n",
       "      <td>NaN</td>\n",
       "      <td>NaN</td>\n",
       "    </tr>\n",
       "  </tbody>\n",
       "</table>\n",
       "</div>"
      ],
      "text/plain": [
       "     DATA  12.056000  364.286000  0.965000\n",
       "0    DATA     12.965     304.464     0.702\n",
       "1    DATA     14.278     274.107     0.888\n",
       "2    DATA     15.025     287.807     0.996\n",
       "3    DATA     15.781     300.137     1.000\n",
       "4    DATA     16.617     308.514     0.951\n",
       "5    DATA     17.546     311.834     1.000\n",
       "6    DATA     18.586     316.223     1.000\n",
       "7    DATA     19.756     313.658     1.000\n",
       "8    DATA     21.084     316.256     0.987\n",
       "9    DATA     22.604     318.614     1.000\n",
       "10   DATA     24.359     320.133     1.000\n",
       "11   DATA     26.243     315.179     1.000\n",
       "12   DATA     28.565     327.679     1.000\n",
       "13   DATA     30.332     324.107     1.000\n",
       "14   DATA     32.452     323.214     0.794\n",
       "15  >>End        NaN         NaN       NaN"
      ]
     },
     "execution_count": 8,
     "metadata": {},
     "output_type": "execute_result"
    }
   ],
   "source": [
    "df = pd.read_csv(\"Line3.DCT\", header=2, sep=\" \", delimiter='\\t')\n",
    "df"
   ]
  },
  {
   "cell_type": "code",
   "execution_count": 9,
   "metadata": {
    "scrolled": true
   },
   "outputs": [
    {
     "data": {
      "text/plain": [
       "Index(['DATA', '12.056000', '364.286000', '0.965000'], dtype='object')"
      ]
     },
     "execution_count": 9,
     "metadata": {},
     "output_type": "execute_result"
    }
   ],
   "source": [
    "df.columns"
   ]
  },
  {
   "cell_type": "code",
   "execution_count": 10,
   "metadata": {},
   "outputs": [
    {
     "name": "stdout",
     "output_type": "stream",
     "text": [
      "DATA\n",
      "12.056000\n",
      "364.286000\n",
      "0.965000\n"
     ]
    }
   ],
   "source": [
    "for i in df.columns:\n",
    "    print(i)\n"
   ]
  },
  {
   "cell_type": "code",
   "execution_count": 11,
   "metadata": {},
   "outputs": [
    {
     "data": {
      "text/plain": [
       "12.965"
      ]
     },
     "execution_count": 11,
     "metadata": {},
     "output_type": "execute_result"
    }
   ],
   "source": [
    "\n",
    "min(df['12.056000'])"
   ]
  },
  {
   "cell_type": "code",
   "execution_count": 12,
   "metadata": {},
   "outputs": [
    {
     "data": {
      "text/plain": [
       "Text(0.5, 1.0, 'Depth vs Shear Velocity')"
      ]
     },
     "execution_count": 12,
     "metadata": {},
     "output_type": "execute_result"
    },
    {
     "data": {
      "image/png": "[encoded data removed]",
      "text/plain": [
       "<Figure size 432x288 with 1 Axes>"
      ]
     },
     "metadata": {
      "needs_background": "light"
     },
     "output_type": "display_data"
    }
   ],
   "source": [
    "plt.plot( df['364.286000'], df['12.056000'])\n",
    "plt.ylim(max(df['12.056000'])+5, min(df['12.056000'])-5)\n",
    "plt.xlabel(\"Shear Velocity\")\n",
    "plt.ylabel(\"Depth\")\n",
    "plt.title(\"Depth vs Shear Velocity\")"
   ]
  },
  {
   "cell_type": "code",
   "execution_count": 13,
   "metadata": {},
   "outputs": [
    {
     "data": {
      "text/plain": [
       "0      DATA\n",
       "1      DATA\n",
       "2      DATA\n",
       "3      DATA\n",
       "4      DATA\n",
       "5      DATA\n",
       "6      DATA\n",
       "7      DATA\n",
       "8      DATA\n",
       "9      DATA\n",
       "10     DATA\n",
       "11     DATA\n",
       "12     DATA\n",
       "13     DATA\n",
       "14     DATA\n",
       "15    >>End\n",
       "Name: DATA, dtype: object"
      ]
     },
     "execution_count": 13,
     "metadata": {},
     "output_type": "execute_result"
    }
   ],
   "source": [
    "df['DATA']"
   ]
  },
  {
   "cell_type": "code",
   "execution_count": null,
   "metadata": {},
   "outputs": [],
   "source": []
  },
  {
   "cell_type": "code",
   "execution_count": null,
   "metadata": {},
   "outputs": [],
   "source": [
    "lines = ['Line1.DCT', 'Line3.DCT']\n",
    "for line in lines_\n",
    "    df = pd.read_csv(line, header=2, sep=\" \", delimiter='\\t')\n",
    "    \n"
   ]
  },
  {
   "cell_type": "code",
   "execution_count": null,
   "metadata": {},
   "outputs": [],
   "source": []
  },
  {
   "cell_type": "code",
   "execution_count": null,
   "metadata": {},
   "outputs": [],
   "source": []
  },
  {
   "cell_type": "code",
   "execution_count": 14,
   "metadata": {},
   "outputs": [
    {
     "data": {
      "image/png": "[encoded data removed]",
      "text/plain": [
       "<Figure size 432x288 with 1 Axes>"
      ]
     },
     "metadata": {
      "needs_background": "light"
     },
     "output_type": "display_data"
    },
    {
     "data": {
      "image/png": "[encoded data removed]",
      "text/plain": [
       "<Figure size 432x288 with 1 Axes>"
      ]
     },
     "metadata": {
      "needs_background": "light"
     },
     "output_type": "display_data"
    },
    {
     "data": {
      "image/png": "[encoded data removed]",
      "text/plain": [
       "<Figure size 432x288 with 1 Axes>"
      ]
     },
     "metadata": {
      "needs_background": "light"
     },
     "output_type": "display_data"
    }
   ],
   "source": [
    "plt.plot([1,2,3,4])\n",
    "plt.ylabel('my label')\n",
    "plt.show()\n",
    "plt.plot([1,2,3,4], [2,4,6,8], color='r', marker= 'o')\n",
    "plt.axis([0, 5, 0, 10])\n",
    "plt.show()\n",
    "x = np.linspace(-5, 5, 50)\n",
    "y = np.sin(x)     \n",
    "plt.plot(x, y, marker=\"x\") \n",
    "plt.show()"
   ]
  },
  {
   "cell_type": "code",
   "execution_count": null,
   "metadata": {},
   "outputs": [],
   "source": []
  }
 ],
 "metadata": {
  "kernelspec": {
   "display_name": "Python 3",
   "language": "python",
   "name": "python3"
  },
  "language_info": {
   "codemirror_mode": {
    "name": "ipython",
    "version": 3
   },
   "file_extension": ".py",
   "mimetype": "text/x-python",
   "name": "python",
   "nbconvert_exporter": "python",
   "pygments_lexer": "ipython3",
   "version": "3.7.1"
  }
 },
 "nbformat": 4,
 "nbformat_minor": 2
}
