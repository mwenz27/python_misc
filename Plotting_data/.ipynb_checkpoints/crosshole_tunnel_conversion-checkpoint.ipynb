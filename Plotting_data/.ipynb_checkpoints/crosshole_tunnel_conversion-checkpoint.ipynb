{
 "cells": [
  {
   "cell_type": "markdown",
   "metadata": {},
   "source": [
    "# Replacing files"
   ]
  },
  {
   "cell_type": "code",
   "execution_count": 12,
   "metadata": {},
   "outputs": [],
   "source": [
    "import os\n",
    "from source_reciever_dictionary import *"
   ]
  },
  {
   "cell_type": "code",
   "execution_count": 14,
   "metadata": {},
   "outputs": [
    {
     "data": {
      "text/plain": [
       "71"
      ]
     },
     "execution_count": 14,
     "metadata": {},
     "output_type": "execute_result"
    }
   ],
   "source": [
    "len(BH1_to_tunnel)"
   ]
  },
  {
   "cell_type": "code",
   "execution_count": 33,
   "metadata": {},
   "outputs": [],
   "source": [
    "def end_string(data_list):\n",
    "    new_string = \"\"\n",
    "    for number in data_list[7:15]:\n",
    "        new_string += \" \"*5 + number \n",
    "    return new_string\n",
    "\n",
    "\n",
    "def inserting_reference_to_files(borehole_dictionary, A_or_B, path, optional_string=\"\"):\n",
    "    '''\n",
    "    input dictionary\n",
    "    Line A or B\n",
    "    input path\n",
    "    '''\n",
    "    file_list_part = os.listdir(path)\n",
    "    C3PK_file_part = [line for line in file_list_part if '.3PK' in line]\n",
    "    part_dict = A_or_B\n",
    "    print(\"Line\", part_dict)\n",
    "    cross_hole = borehole_dictionary \n",
    "    name = cross_hole['name']\n",
    "    processed_path = path + f\"{name}-Line{A_or_B}_processed{optional_string}\\\\\"\n",
    "    try:\n",
    "        os.mkdir(processed_path)\n",
    "        print(\"Processed path is created\")\n",
    "    except:\n",
    "        print(\"Processed Folder already exists\")\n",
    "\n",
    "    for file in C3PK_file_part:\n",
    "        point = file.find('.')\n",
    "        name_of_file = file[:point]            ######## name of the file   \n",
    "        name_of_file = int(name_of_file)\n",
    "        print(name_of_file)        \n",
    "        \n",
    "        with open(f\"{path}{file}\", 'r') as file_read:\n",
    "            data = file_read.readlines()   ######## all lines\n",
    "            #print(data[0])                 ####### read one line to check\n",
    "\n",
    "        output_file = f\"{processed_path}{file}\"\n",
    "        #print(output_file)\n",
    "        \n",
    "        if os.path.exists(output_file):\n",
    "            #print(\"Removing exiisting file, creating again\\n\")\n",
    "            os.remove(output_file)\n",
    "                     \n",
    "        with open(output_file, 'a') as file_out:\n",
    "            for key in range(len(data)):               ###############  break each line in reference to the length\n",
    "                index_key = f'{key+1}{A_or_B}'\n",
    "                data_line = data[key]                  ########## select the line to write\n",
    "                data_list = data_line.split()           ########### split the line into a list\n",
    "       \n",
    "                s = \" \"\n",
    "                s_x = round(cross_hole[\"Source X\"], 3)\n",
    "                s_y = round(cross_hole[\"Source Y\"], 3)\n",
    "                depth = round(cross_hole[name_of_file],3)\n",
    "                r_x = round(cross_hole[index_key][\"r-x\"], 3)\n",
    "                r_y = round(cross_hole[index_key][\"r-y\"], 3)\n",
    "                r_z = round(cross_hole[index_key][\"r-z\"], 3)\n",
    "#                 print(s_x, s_y, depth, r_x, r_y, r_z)\n",
    "                \n",
    "\n",
    "                if len(str(key+1)) == 1:\n",
    "                    front = s*5\n",
    "                elif len(str(key+1)) == 2:\n",
    "                    front = s*4\n",
    "                new_one_line = f'{front}{key+1}{s*4}{s_x}{s*3}{s_y}{s*7}{depth}{s*6}{r_x}{s*2}{r_y}{s*3}{r_z}{s*6}{end_string(data_list)}'\n",
    "                if key+1 < len(data):\n",
    "#                     print(key+1, len(data))\n",
    "                    file_out.write(new_one_line+ \"\\n\")\n",
    "                elif key+1 == len(data):\n",
    "                    #print(\"last line\")\n",
    "                    file_out.write(new_one_line)"
   ]
  },
  {
   "cell_type": "markdown",
   "metadata": {},
   "source": [
    "# LINE 1"
   ]
  },
  {
   "cell_type": "code",
   "execution_count": 39,
   "metadata": {
    "scrolled": true
   },
   "outputs": [
    {
     "name": "stdout",
     "output_type": "stream",
     "text": [
      "Line A\n",
      "Processed Folder already exists\n",
      "1100101\n",
      "1100102\n"
     ]
    }
   ],
   "source": [
    "BH1A = \"C:\\\\Dundass_Road_Crosshole\\\\BH1_to_tunnel\\\\LineA\\\\\"\n",
    "inserting_reference_to_files(BH1_to_tunnel, 'A', BH1A)"
   ]
  },
  {
   "cell_type": "code",
   "execution_count": 29,
   "metadata": {
    "scrolled": false
   },
   "outputs": [
    {
     "name": "stdout",
     "output_type": "stream",
     "text": [
      "Line B\n",
      "Processed path is created\n"
     ]
    }
   ],
   "source": [
    "BH1B = \"C:\\\\Dundass_Road_Crosshole\\\\BH1_to_tunnel\\\\LineB\\\\\"\n",
    "inserting_reference_to_files(BH1_to_tunnel, 'B', BH1B)"
   ]
  },
  {
   "cell_type": "code",
   "execution_count": null,
   "metadata": {},
   "outputs": [],
   "source": []
  },
  {
   "cell_type": "markdown",
   "metadata": {},
   "source": [
    "# LINE 2"
   ]
  },
  {
   "cell_type": "code",
   "execution_count": 30,
   "metadata": {
    "scrolled": true
   },
   "outputs": [
    {
     "name": "stdout",
     "output_type": "stream",
     "text": [
      "Line A\n",
      "Processed path is created\n"
     ]
    }
   ],
   "source": [
    "BH2A = \"C:\\\\Dundass_Road_Crosshole\\\\BH2_to_tunnel\\\\LineA\\\\\"\n",
    "inserting_reference_to_files(BH1_to_tunnel, 'A', BH2A)"
   ]
  },
  {
   "cell_type": "code",
   "execution_count": 31,
   "metadata": {
    "scrolled": false
   },
   "outputs": [
    {
     "name": "stdout",
     "output_type": "stream",
     "text": [
      "Line B\n",
      "Processed path is created\n"
     ]
    }
   ],
   "source": [
    "BH2B = \"C:\\\\Dundass_Road_Crosshole\\\\BH2_to_tunnel\\\\LineB\\\\\"\n",
    "inserting_reference_to_files(BH1_to_tunnel, 'B', BH2B)"
   ]
  },
  {
   "cell_type": "markdown",
   "metadata": {},
   "source": [
    "# LINE 3"
   ]
  },
  {
   "cell_type": "code",
   "execution_count": 37,
   "metadata": {
    "scrolled": true
   },
   "outputs": [
    {
     "name": "stdout",
     "output_type": "stream",
     "text": [
      "Line A\n",
      "Processed path is created\n",
      "700101\n"
     ]
    }
   ],
   "source": [
    "BH3A = \"C:\\\\Dundass_Road_Crosshole\\\\BH3_to_tunnel\\\\LineA\\\\\"\n",
    "inserting_reference_to_files(BH3_to_tunnel, 'A', BH3A)"
   ]
  },
  {
   "cell_type": "code",
   "execution_count": 38,
   "metadata": {
    "scrolled": false
   },
   "outputs": [
    {
     "name": "stdout",
     "output_type": "stream",
     "text": [
      "Line B\n",
      "Processed path is created\n"
     ]
    }
   ],
   "source": [
    "BH3B = \"C:\\\\Dundass_Road_Crosshole\\\\BH3_to_tunnel\\\\LineB\\\\\"\n",
    "inserting_reference_to_files(BH3_to_tunnel, 'B', BH3B)"
   ]
  },
  {
   "cell_type": "code",
   "execution_count": null,
   "metadata": {},
   "outputs": [],
   "source": []
  }
 ],
 "metadata": {
  "kernelspec": {
   "display_name": "Python 3",
   "language": "python",
   "name": "python3"
  },
  "language_info": {
   "codemirror_mode": {
    "name": "ipython",
    "version": 3
   },
   "file_extension": ".py",
   "mimetype": "text/x-python",
   "name": "python",
   "nbconvert_exporter": "python",
   "pygments_lexer": "ipython3",
   "version": "3.7.1"
  }
 },
 "nbformat": 4,
 "nbformat_minor": 2
}
