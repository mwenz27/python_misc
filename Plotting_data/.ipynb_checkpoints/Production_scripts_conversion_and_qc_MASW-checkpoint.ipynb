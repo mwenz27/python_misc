{
 "cells": [
  {
   "cell_type": "markdown",
   "metadata": {},
   "source": [
    "## Conversion files and QC of lines"
   ]
  },
  {
   "cell_type": "code",
   "execution_count": 9,
   "metadata": {},
   "outputs": [],
   "source": [
    "%matplotlib inline\n",
    "import numpy as np\n",
    "import pandas as pd\n",
    "import os\n",
    "import matplotlib.pyplot as plt\n",
    "import shutil"
   ]
  },
  {
   "cell_type": "code",
   "execution_count": 2,
   "metadata": {},
   "outputs": [],
   "source": [
    "path = \"C:\\\\Users\\\\Ninja\\\\Documents\\\\MASW\\\\Dundass_Road_MASW\\\\Dundass_Road_MASW\\\\SG2\\\\MASW1\\\\Revision_6\\\\10_layer_25m_repick_1-13\\\\\""
   ]
  },
  {
   "cell_type": "code",
   "execution_count": 8,
   "metadata": {},
   "outputs": [
    {
     "name": "stdout",
     "output_type": "stream",
     "text": [
      "Processed path is created\n"
     ]
    }
   ],
   "source": [
    "processed_path = path + \"1\"\n",
    "\n",
    "try:\n",
    "    os.mkdir(processed_path)\n",
    "    print(\"Processed path is created\")\n",
    "except FileExistsError:\n",
    "    print(\"Folder Exists deleting folder creating new processed folder\")\n",
    "    shutil.rmtree(processed_path)\n",
    "    os.mkdir(processed_path)\n",
    "    print(\"Processed path is created\")\n"
   ]
  },
  {
   "cell_type": "code",
   "execution_count": 11,
   "metadata": {},
   "outputs": [],
   "source": [
    "file_list = os.listdir(path)\n",
    "processed_path = path + \"processed\""
   ]
  },
  {
   "cell_type": "code",
   "execution_count": null,
   "metadata": {},
   "outputs": [],
   "source": []
  },
  {
   "cell_type": "code",
   "execution_count": 13,
   "metadata": {},
   "outputs": [
    {
     "ename": "NameError",
     "evalue": "name 'lst_file' is not defined",
     "output_type": "error",
     "traceback": [
      "\u001b[1;31m---------------------------------------------------------------------------\u001b[0m",
      "\u001b[1;31mNameError\u001b[0m                                 Traceback (most recent call last)",
      "\u001b[1;32m<ipython-input-13-b2696ffcfb3c>\u001b[0m in \u001b[0;36m<module>\u001b[1;34m\u001b[0m\n\u001b[0;32m      1\u001b[0m \u001b[0mpath\u001b[0m \u001b[1;33m=\u001b[0m \u001b[1;34m\"C:\\\\Users\\\\Ninja\\\\Documents\\\\MASW\\\\Dundass_Road_MASW\\\\Dundass_Road_MASW\\\\SG2\\\\MASW1\\\\Revision_6\\\\10_layer_25m_repick_1-13\\\\\"\u001b[0m\u001b[1;33m\u001b[0m\u001b[1;33m\u001b[0m\u001b[0m\n\u001b[0;32m      2\u001b[0m \u001b[1;33m\u001b[0m\u001b[0m\n\u001b[1;32m----> 3\u001b[1;33m \u001b[1;32mwith\u001b[0m \u001b[0mopen\u001b[0m\u001b[1;33m(\u001b[0m\u001b[1;34mf\"{path}{lst_file[8]}\"\u001b[0m\u001b[1;33m,\u001b[0m \u001b[1;34m'r'\u001b[0m\u001b[1;33m)\u001b[0m \u001b[1;32mas\u001b[0m \u001b[0mfin\u001b[0m\u001b[1;33m:\u001b[0m\u001b[1;33m\u001b[0m\u001b[1;33m\u001b[0m\u001b[0m\n\u001b[0m\u001b[0;32m      4\u001b[0m     \u001b[0mtext_file\u001b[0m \u001b[1;33m=\u001b[0m \u001b[0mfin\u001b[0m\u001b[1;33m.\u001b[0m\u001b[0mreadlines\u001b[0m\u001b[1;33m(\u001b[0m\u001b[1;33m)\u001b[0m\u001b[1;33m\u001b[0m\u001b[1;33m\u001b[0m\u001b[0m\n\u001b[0;32m      5\u001b[0m \u001b[1;33m\u001b[0m\u001b[0m\n",
      "\u001b[1;31mNameError\u001b[0m: name 'lst_file' is not defined"
     ]
    }
   ],
   "source": [
    "path = \"C:\\\\Users\\\\Ninja\\\\Documents\\\\MASW\\\\Dundass_Road_MASW\\\\Dundass_Road_MASW\\\\SG2\\\\MASW1\\\\Revision_6\\\\10_layer_25m_repick_1-13\\\\\"\n",
    "\n",
    "with open(f\"{path}{lst_file[8]}\", 'r') as fin:\n",
    "    text_file = fin.readlines()\n",
    "\n",
    "for key, line in enumerate(text_file):\n",
    "    print(key , line.strip())\n"
   ]
  },
  {
   "cell_type": "code",
   "execution_count": null,
   "metadata": {},
   "outputs": [],
   "source": [
    "print(text_file[533:543])"
   ]
  },
  {
   "cell_type": "code",
   "execution_count": null,
   "metadata": {},
   "outputs": [],
   "source": [
    "for key, line in enumerate(text_file[-15:-5]):\n",
    "    print(key , line.strip())"
   ]
  },
  {
   "cell_type": "code",
   "execution_count": null,
   "metadata": {},
   "outputs": [],
   "source": [
    "one_line = text_file[533]\n",
    "one_line"
   ]
  },
  {
   "cell_type": "code",
   "execution_count": null,
   "metadata": {},
   "outputs": [],
   "source": [
    "one_line.split()"
   ]
  },
  {
   "cell_type": "code",
   "execution_count": null,
   "metadata": {},
   "outputs": [],
   "source": [
    "new_text_line = one_line.split()\n",
    "line = 1\n",
    "station = 1001 # this is going to change\n",
    "easting = 9999 # this is going to change\n",
    "northing = 8888 # this is going to change\n",
    "select_one_depth_vs = f\"{line}\\t{station}\\t{easting}\\t{northing}\\t-{new_text_line[0]}\\t{new_text_line[2]}\""
   ]
  },
  {
   "cell_type": "code",
   "execution_count": null,
   "metadata": {},
   "outputs": [],
   "source": [
    "select_one_depth_vs"
   ]
  },
  {
   "cell_type": "code",
   "execution_count": null,
   "metadata": {},
   "outputs": [],
   "source": [
    "print(select_one_depth_vs)"
   ]
  },
  {
   "cell_type": "code",
   "execution_count": null,
   "metadata": {},
   "outputs": [],
   "source": [
    "## station dictionary"
   ]
  },
  {
   "cell_type": "code",
   "execution_count": 41,
   "metadata": {},
   "outputs": [],
   "source": [
    "station = {\n",
    "\n",
    "    \"1001\": {\"easting\": 404749.086, \"northing\": 6464780.244, \"elevation\": 29.444},\n",
    "    \"1002\": {\"easting\": 404748.651, \"northing\": 6464781.297, \"elevation\": 29.415},\n",
    "    \"1003\": {\"easting\": 404748.318, \"northing\": 6464782.493, \"elevation\": 29.421},\n",
    "    \"1004\": {\"easting\": 404747.936, \"northing\": 6464783.630, \"elevation\": 29.392},\n",
    "    \"1005\": {\"easting\": 404747.751, \"northing\": 6464784.251, \"elevation\": 29.386},\n",
    "    \"1006\": {\"easting\": 404747.449, \"northing\": 6464785.262, \"elevation\": 29.390},\n",
    "    \"1007\": {\"easting\": 404747.198, \"northing\": 6464786.214, \"elevation\": 29.374},\n",
    "    \"1008\": {\"easting\": 404746.956, \"northing\": 6464787.050, \"elevation\": 29.369},\n",
    "    \"1009\": {\"easting\": 404746.817, \"northing\": 6464788.034, \"elevation\": 29.359},\n",
    "    \"1010\": {\"easting\": 404746.440, \"northing\": 6464789.004, \"elevation\": 29.368},\n",
    "    \"1011\": {\"easting\": 404746.209, \"northing\": 6464790.028, \"elevation\": 29.373},\n",
    "    \"1012\": {\"easting\": 404745.933, \"northing\": 6464791.004, \"elevation\": 29.365},\n",
    "    \"1013\": {\"easting\": 404745.830, \"northing\": 6464791.795, \"elevation\": 29.353},\n",
    "    \"1014\": {\"easting\": 404745.551, \"northing\": 6464792.811, \"elevation\": 29.348},\n",
    "    \"1015\": {\"easting\": 404745.389, \"northing\": 6464793.942, \"elevation\": 29.350},\n",
    "    \"1016\": {\"easting\": 404745.206, \"northing\": 6464794.873, \"elevation\": 29.337},\n",
    "    \"1017\": {\"easting\": 404744.968, \"northing\": 6464796.069, \"elevation\": 29.337},\n",
    "    \"1018\": {\"easting\": 404744.807, \"northing\": 6464796.985, \"elevation\": 29.336},\n",
    "    \"1019\": {\"easting\": 404744.597, \"northing\": 6464797.800, \"elevation\": 29.321},\n",
    "    \"1020\": {\"easting\": 404744.412, \"northing\": 6464798.843, \"elevation\": 29.330},\n",
    "    \"1021\": {\"easting\": 404744.177, \"northing\": 6464799.711, \"elevation\": 29.318},\n",
    "    \"1022\": {\"easting\": 404743.991, \"northing\": 6464800.698, \"elevation\": 29.306},\n",
    "    \"1023\": {\"easting\": 404743.712, \"northing\": 6464801.616, \"elevation\": 29.277},\n",
    "    \"1024\": {\"easting\": 404743.232, \"northing\": 6464802.453, \"elevation\": 29.385},\n",
    "    \"1025\": {\"easting\": 404743.179, \"northing\": 6464803.552, \"elevation\": 29.191},\n",
    "    \"1026\": {\"easting\": 404742.823, \"northing\": 6464804.401, \"elevation\": 29.374},\n",
    "    \"1027\": {\"easting\": 404742.729, \"northing\": 6464805.512, \"elevation\": 29.401},\n",
    "    \"1028\": {\"easting\": 404742.340, \"northing\": 6464806.417, \"elevation\": 29.396},\n",
    "    \"1029\": {\"easting\": 404742.109, \"northing\": 6464807.271, \"elevation\": 29.401},\n",
    "    \"1030\": {\"easting\": 404741.799, \"northing\": 6464808.409, \"elevation\": 29.392},\n",
    "    \"1031\": {\"easting\": 404741.494, \"northing\": 6464809.328, \"elevation\": 29.384},\n",
    "    \"2001\": {\"easting\": 404749.820, \"northing\": 6464781.153, \"elevation\": 29.461},\n",
    "    \"2002\": {\"easting\": 404749.557, \"northing\": 6464781.767, \"elevation\": 29.469},\n",
    "    \"2003\": {\"easting\": 404749.323, \"northing\": 6464782.690, \"elevation\": 29.469},\n",
    "    \"2004\": {\"easting\": 404749.147, \"northing\": 6464783.582, \"elevation\": 29.460},\n",
    "    \"2005\": {\"easting\": 404748.864, \"northing\": 6464784.548, \"elevation\": 29.447},\n",
    "    \"2006\": {\"easting\": 404748.555, \"northing\": 6464785.720, \"elevation\": 29.414},\n",
    "    \"2007\": {\"easting\": 404748.314, \"northing\": 6464786.568, \"elevation\": 29.426},\n",
    "    \"2008\": {\"easting\": 404748.027, \"northing\": 6464787.452, \"elevation\": 29.409},\n",
    "    \"2009\": {\"easting\": 404747.799, \"northing\": 6464788.280, \"elevation\": 29.413},\n",
    "    \"2010\": {\"easting\": 404747.504, \"northing\": 6464789.217, \"elevation\": 29.421},\n",
    "    \"2011\": {\"easting\": 404747.189, \"northing\": 6464790.221, \"elevation\": 29.388},\n",
    "    \"2012\": {\"easting\": 404746.899, \"northing\": 6464791.442, \"elevation\": 29.372},\n",
    "    \"2013\": {\"easting\": 404746.830, \"northing\": 6464792.262, \"elevation\": 29.380},\n",
    "    \"2014\": {\"easting\": 404746.488, \"northing\": 6464793.215, \"elevation\": 29.386},\n",
    "    \"2015\": {\"easting\": 404746.086, \"northing\": 6464794.352, \"elevation\": 29.380},\n",
    "    \"2016\": {\"easting\": 404745.824, \"northing\": 6464795.116, \"elevation\": 29.376},\n",
    "    \"2017\": {\"easting\": 404745.542, \"northing\": 6464796.073, \"elevation\": 29.361},\n",
    "    \"2018\": {\"easting\": 404745.655, \"northing\": 6464797.308, \"elevation\": 29.375},\n",
    "    \"2019\": {\"easting\": 404745.233, \"northing\": 6464798.114, \"elevation\": 29.341},\n",
    "    \"2020\": {\"easting\": 404744.946, \"northing\": 6464798.989, \"elevation\": 29.336},\n",
    "    \"2021\": {\"easting\": 404744.604, \"northing\": 6464799.960, \"elevation\": 29.339},\n",
    "    \"2022\": {\"easting\": 404744.278, \"northing\": 6464800.797, \"elevation\": 29.332},\n",
    "    \"2023\": {\"easting\": 404743.997, \"northing\": 6464801.810, \"elevation\": 29.294},\n",
    "    \"2024\": {\"easting\": 404744.079, \"northing\": 6464802.858, \"elevation\": 29.284},\n",
    "    \"2025\": {\"easting\": 404743.748, \"northing\": 6464803.811, \"elevation\": 29.274},\n",
    "    \"2026\": {\"easting\": 404743.486, \"northing\": 6464804.717, \"elevation\": 29.300},\n",
    "    \"2027\": {\"easting\": 404743.199, \"northing\": 6464805.726, \"elevation\": 29.309},\n",
    "    \"2028\": {\"easting\": 404742.947, \"northing\": 6464806.769, \"elevation\": 29.325},\n",
    "    \"2029\": {\"easting\": 404742.624, \"northing\": 6464807.762, \"elevation\": 29.312},\n",
    "    \"2030\": {\"easting\": 404742.360, \"northing\": 6464808.556, \"elevation\": 29.423},\n",
    "    \"2031\": {\"easting\": 404742.139, \"northing\": 6464809.684, \"elevation\": 29.415},\n",
    "    \"3001\": {\"easting\": 404748.686, \"northing\": 6464790.623, \"elevation\": 29.460},\n",
    "    \"3002\": {\"easting\": 404748.490, \"northing\": 6464791.376, \"elevation\": 29.465},\n",
    "    \"3003\": {\"easting\": 404748.173, \"northing\": 6464792.285, \"elevation\": 29.444},\n",
    "    \"3004\": {\"easting\": 404747.876, \"northing\": 6464793.187, \"elevation\": 29.428},\n",
    "    \"3005\": {\"easting\": 404747.527, \"northing\": 6464794.302, \"elevation\": 29.424},\n",
    "    \"3006\": {\"easting\": 404747.234, \"northing\": 6464795.254, \"elevation\": 29.421},\n",
    "    \"3007\": {\"easting\": 404746.956, \"northing\": 6464796.097, \"elevation\": 29.418},\n",
    "    \"3008\": {\"easting\": 404746.622, \"northing\": 6464797.126, \"elevation\": 29.406},\n",
    "    \"3009\": {\"easting\": 404746.346, \"northing\": 6464798.088, \"elevation\": 29.395},\n",
    "    \"3010\": {\"easting\": 404746.080, \"northing\": 6464798.961, \"elevation\": 29.391},\n",
    "    \"3011\": {\"easting\": 404745.761, \"northing\": 6464800.048, \"elevation\": 29.378},\n",
    "    \"3012\": {\"easting\": 404745.470, \"northing\": 6464801.013, \"elevation\": 29.390},\n",
    "    \"3013\": {\"easting\": 404745.217, \"northing\": 6464801.897, \"elevation\": 29.342},\n",
    "    \"3014\": {\"easting\": 404745.429, \"northing\": 6464802.969, \"elevation\": 29.384},\n",
    "    \"3015\": {\"easting\": 404744.978, \"northing\": 6464803.893, \"elevation\": 29.385},\n",
    "    \"3016\": {\"easting\": 404744.628, \"northing\": 6464804.836, \"elevation\": 29.356},\n",
    "    \"3017\": {\"easting\": 404744.307, \"northing\": 6464805.787, \"elevation\": 29.352},\n",
    "    \"3018\": {\"easting\": 404744.023, \"northing\": 6464806.616, \"elevation\": 29.363},\n",
    "    \"3019\": {\"easting\": 404743.675, \"northing\": 6464807.705, \"elevation\": 29.385},\n",
    "    \"3020\": {\"easting\": 404743.393, \"northing\": 6464808.628, \"elevation\": 29.357},\n",
    "    \"3021\": {\"easting\": 404743.108, \"northing\": 6464809.583, \"elevation\": 29.357},\n",
    "    \"8000\": {\"easting\": 404747.757, \"northing\": 6464780.576, \"elevation\": 29.399},\n",
    "    \"8001\": {\"easting\": 404746.888, \"northing\": 6464785.083, \"elevation\": 29.380},\n",
    "    \"8002\": {\"easting\": 404745.793, \"northing\": 6464791.054, \"elevation\": 29.366},\n",
    "    \"8003\": {\"easting\": 404744.506, \"northing\": 6464797.627, \"elevation\": 29.345},\n",
    "    \"8004\": {\"easting\": 404743.742, \"northing\": 6464801.366, \"elevation\": 29.298},\n",
    "    \"8005\": {\"easting\": 404743.471, \"northing\": 6464801.859, \"elevation\": 29.211},\n",
    "    \"8006\": {\"easting\": 404743.093, \"northing\": 6464803.846, \"elevation\": 29.256},\n",
    "    \"8007\": {\"easting\": 404743.109, \"northing\": 6464804.986, \"elevation\": 29.324},\n",
    "    \"8008\": {\"easting\": 404741.984, \"northing\": 6464810.939, \"elevation\": 29.343},\n",
    "    \"8009\": {\"easting\": 404740.574, \"northing\": 6464818.291, \"elevation\": 29.320},\n",
    "    \"8010\": {\"easting\": 404739.273, \"northing\": 6464825.237, \"elevation\": 29.276},\n",
    "    \"8011\": {\"easting\": 404737.833, \"northing\": 6464832.484, \"elevation\": 29.227},\n",
    "    \"9000\": {\"easting\": 404743.287, \"northing\": 6464807.407, \"elevation\": 29.361},\n",
    "    \"9001\": {\"easting\": 404745.756, \"northing\": 6464797.712, \"elevation\": 29.381},\n",
    "    \"9002\": {\"easting\": 404747.997, \"northing\": 6464787.745, \"elevation\": 29.425},\n",
    "    \"9003\": {\"easting\": 404741.214, \"northing\": 6464806.146, \"elevation\": 29.843}\n",
    "\n",
    "}\n",
    "\n"
   ]
  },
  {
   "cell_type": "code",
   "execution_count": null,
   "metadata": {},
   "outputs": [],
   "source": [
    "new_text_line = one_line.split()\n",
    "line = 1\n",
    "station_num = str(1001) # this is going to change\n",
    "easting = station[station_num]['easting'] \n",
    "northing = station[station_num]['northing']\n",
    "elevation = station[station_num]['elevation']\n",
    "select_one_depth_vs = f\"{line}\\t{station_num}\\t{easting}\\t{northing}\\t{elevation}\\t-{new_text_line[0]}\\t{new_text_line[2]}\""
   ]
  },
  {
   "cell_type": "code",
   "execution_count": null,
   "metadata": {},
   "outputs": [],
   "source": [
    "print(select_one_depth_vs)"
   ]
  },
  {
   "cell_type": "code",
   "execution_count": null,
   "metadata": {
    "scrolled": true
   },
   "outputs": [],
   "source": [
    "processed_path = path+\"\\\\processed_lines\\\\\"\n",
    "processed_path"
   ]
  },
  {
   "cell_type": "code",
   "execution_count": null,
   "metadata": {},
   "outputs": [],
   "source": []
  },
  {
   "cell_type": "code",
   "execution_count": null,
   "metadata": {},
   "outputs": [],
   "source": []
  },
  {
   "cell_type": "code",
   "execution_count": null,
   "metadata": {},
   "outputs": [],
   "source": [
    "## for line one"
   ]
  },
  {
   "cell_type": "code",
   "execution_count": null,
   "metadata": {
    "scrolled": false
   },
   "outputs": [],
   "source": [
    "lst_file[1]\n",
    "print(lst_file[1][28:32])"
   ]
  },
  {
   "cell_type": "markdown",
   "metadata": {},
   "source": [
    "## Converting singles files to a new format"
   ]
  },
  {
   "cell_type": "code",
   "execution_count": null,
   "metadata": {},
   "outputs": [],
   "source": [
    "for i in range(len(lst_file)):\n",
    "#     print(i, \"\\t\",end=\"\")\n",
    "    line_name = lst_file[i][28:32]\n",
    "    with open(f\"{path}{lst_file[i]}\", 'r') as fin:\n",
    "        text_file = fin.readlines()\n",
    "\n",
    "    #extracting relevant location of the data\n",
    "    for key, line in enumerate(text_file[-15:-5]):\n",
    "        new_text_line = line.split()\n",
    "#         print(new_text_line)\n",
    "        with open(f\"{processed_path}{line_name}.txt\", \"a\") as fout:\n",
    "            line = 1  # change this for each line\n",
    "            station_num = str(line_name) # string is required to be reference to in a dictionary\n",
    "            easting = station[station_num]['easting'] \n",
    "            northing = station[station_num]['northing']\n",
    "            elevation = station[station_num]['elevation']\n",
    "            select_one_depth_vs = f\"{line}\\t{station_num}\\t{easting}\\t{northing}\\t{elevation}\\t-{new_text_line[0]}\\t{new_text_line[1]}\\n\"\n",
    "            #print(select_one_depth_vs)\n",
    "            fout.write(select_one_depth_vs)\n",
    "    print(\"Processed\", line_name)"
   ]
  },
  {
   "cell_type": "code",
   "execution_count": null,
   "metadata": {},
   "outputs": [],
   "source": []
  },
  {
   "cell_type": "code",
   "execution_count": null,
   "metadata": {},
   "outputs": [],
   "source": []
  },
  {
   "cell_type": "markdown",
   "metadata": {},
   "source": [
    "# LINE 1  Converting all files into to a new format for Gridding"
   ]
  },
  {
   "cell_type": "code",
   "execution_count": 56,
   "metadata": {},
   "outputs": [],
   "source": [
    "############## Changed this path for each converison\n",
    "path = \"C:\\\\Users\\\\Ninja\\\\Documents\\\\MASW\\\\Dundass_Road_MASW\\\\Dundass_Road_MASW\\\\SG2\\\\MASW1\\\\Revision_6\\\\10L_25m_equal\\\\\"\n",
    "file_list = os.listdir(path)\n",
    "lst_file = [line for line in file_list if '.LST' in line]"
   ]
  },
  {
   "cell_type": "code",
   "execution_count": 57,
   "metadata": {},
   "outputs": [
    {
     "name": "stdout",
     "output_type": "stream",
     "text": [
      "\n",
      "Check Layers and count---------------\n",
      "\n",
      "1 \t 2.81\t   405.00\t   456.17\t    24.60\t  1117.38\t  1.55\n",
      "2 \t 5.62\t   405.00\t   409.78\t    24.54\t  1003.76\t  1.60\n",
      "3 \t 8.43\t   405.00\t   446.67\t    24.49\t  1094.12\t  1.65\n",
      "4 \t 11.24\t   401.00\t   429.56\t    24.39\t  1052.19\t  1.70\n",
      "5 \t 14.05\t   384.00\t   389.38\t    24.22\t   953.79\t  1.75\n",
      "6 \t 16.85\t   314.00\t   289.24\t    22.74\t   708.49\t  1.80\n",
      "7 \t 19.66\t   599.00\t   602.21\t    24.39\t  1475.12\t  1.85\n",
      "8 \t 22.47\t   216.00\t   130.28\t    21.76\t   319.13\t  1.90\n",
      "9 \t 25.28\t   271.00\t   184.39\t    20.35\t   451.67\t  1.95\n",
      "10 \t 31.60\t   593.00\t   609.64\t    24.62\t  1493.32\t  2.00\n",
      "correct amount of layers\n"
     ]
    }
   ],
   "source": [
    "with open(f\"{path}{lst_file[8]}\", 'r') as fin:\n",
    "    text_file = fin.readlines()\n",
    "\n",
    "# for key, line in enumerate(text_file):\n",
    "#     print(key , line.strip())\n",
    "\n",
    "print('''\n",
    "Check Layers and count---------------\n",
    "''')\n",
    "layers = 10\n",
    "for key, line in enumerate(text_file[-15:-5], 1):\n",
    "    print(key,\"\\t\", line.strip())\n",
    "if key == 10:\n",
    "    print('correct amount of layers')\n",
    "else:\n",
    "    print('Check layers')"
   ]
  },
  {
   "cell_type": "code",
   "execution_count": 38,
   "metadata": {},
   "outputs": [
    {
     "name": "stdout",
     "output_type": "stream",
     "text": [
      "Folder Exists deleting folder creating new processed folder\n",
      "Processed path is created\n",
      "file name 1001\n"
     ]
    }
   ],
   "source": [
    "processed_path = path + \"processed\\\\\"\n",
    "\n",
    "try:\n",
    "    os.mkdir(processed_path)\n",
    "    print(\"Processed path is created\")\n",
    "except:\n",
    "    print(\"Folder Exists deleting folder creating new processed folder\")\n",
    "    shutil.rmtree(processed_path)\n",
    "    os.mkdir(processed_path)\n",
    "    print(\"Processed path is created\")\n",
    "    \n",
    "print('file name', lst_file[0][28:32])   ##########CHANGE STRING INDEX HERE"
   ]
  },
  {
   "cell_type": "code",
   "execution_count": 45,
   "metadata": {
    "scrolled": true
   },
   "outputs": [
    {
     "name": "stdout",
     "output_type": "stream",
     "text": [
      "Removing exiisting file, create again\n",
      "Processed 1001 1002 1003 1004 1005 1006 1007 1008 1009 1010 1011 1012 1013 1014 1015 1016 1017 1018 1019 1020 1021 1022 1023 1024 1025 1026 1027 1028 1029 1030 1031 \n",
      "File made and located\n",
      "C:\\Users\\Ninja\\Documents\\MASW\\Dundass_Road_MASW\\Dundass_Road_MASW\\SG2\\MASW1\\Revision_6\\10L_25m_equal\\processed\\LINE1_ALL.txt\n"
     ]
    }
   ],
   "source": [
    "output_file = f\"{processed_path}LINE1_ALL.txt\"    ##############CHANGE LINE HERE\n",
    "\n",
    "if os.path.exists(output_file):\n",
    "    print(\"Removing exiisting file, create again\")\n",
    "    os.remove(output_file)\n",
    "\n",
    "print(\"Processed\", end=\" \")\n",
    "for i in range(len(lst_file)):\n",
    "    line_name = lst_file[i][28:32]\n",
    "    with open(f\"{path}{lst_file[i]}\", 'r') as fin:\n",
    "        text_file = fin.readlines()\n",
    "    #extracting relevant location of the data\n",
    "    for key, line in enumerate(text_file[-15:-5]):\n",
    "        #print(key , line.strip())\n",
    "        new_text_line = line.split()\n",
    "#         print(new_text_line)\n",
    "        with open(output_file, \"a\") as fout:\n",
    "            line = 1  # change this for each line\n",
    "            station_num = str(line_name) # string is required to be reference to in a dictionary\n",
    "            easting = station[station_num]['easting'] \n",
    "            northing = station[station_num]['northing']\n",
    "            elevation = station[station_num]['elevation']\n",
    "            select_one_depth_vs = f\"{line}\\t{station_num}\\t{easting}\\t{northing}\\t{elevation}\\t{new_text_line[0]}\\t{new_text_line[1]}\\n\"\n",
    "            #print(select_one_depth_vs)\n",
    "            fout.write(select_one_depth_vs)\n",
    "    print(line_name, end=\" \")\n",
    "print()\n",
    "print(f'File made and located\\n{output_file}')"
   ]
  },
  {
   "cell_type": "code",
   "execution_count": null,
   "metadata": {},
   "outputs": [],
   "source": []
  },
  {
   "cell_type": "code",
   "execution_count": null,
   "metadata": {},
   "outputs": [],
   "source": []
  },
  {
   "cell_type": "markdown",
   "metadata": {},
   "source": [
    "# LINE 2  Converting all files into to a new format for Gridding"
   ]
  },
  {
   "cell_type": "code",
   "execution_count": 58,
   "metadata": {},
   "outputs": [
    {
     "data": {
      "text/plain": [
       "['Line2(ActiveOT_LOW)(CombinedOT)(2001).LST',\n",
       " 'Line2(ActiveOT_LOW)(CombinedOT)(2002).LST',\n",
       " 'Line2(ActiveOT_LOW)(CombinedOT)(2003).LST']"
      ]
     },
     "execution_count": 58,
     "metadata": {},
     "output_type": "execute_result"
    }
   ],
   "source": [
    "############## Changed this path for each converison\n",
    "path2 = \"C:\\\\Users\\\\Ninja\\\\Documents\\\\MASW\\\\Dundass_Road_MASW\\\\Dundass_Road_MASW\\\\SG2\\\\MASW2\\\\revision_3\\\\10_layer_25m_updated_12th_21pick\\\\\"\n",
    "file_list2 = os.listdir(path2)\n",
    "lst_file2 = [line for line in file_list2 if '.LST' in line]\n",
    "lst_file2[:3]"
   ]
  },
  {
   "cell_type": "code",
   "execution_count": 59,
   "metadata": {},
   "outputs": [
    {
     "name": "stdout",
     "output_type": "stream",
     "text": [
      "\n",
      "Check Layers and count---------------\n",
      "\n",
      "1 \t 0.92\t   348.00\t   350.15\t    12.38\t   857.69\t  1.55\n",
      "2 \t 2.06\t   348.00\t   337.34\t    12.37\t   826.30\t  1.60\n",
      "3 \t 3.49\t   348.00\t   347.13\t    12.24\t   850.28\t  1.65\n",
      "4 \t 5.28\t   348.00\t   414.21\t    12.00\t  1014.61\t  1.70\n",
      "5 \t 7.52\t   348.00\t   499.92\t    11.89\t  1224.54\t  1.75\n",
      "6 \t 10.31\t   348.00\t   481.50\t    11.87\t  1179.44\t  1.80\n",
      "7 \t 13.81\t   302.00\t   158.56\t     7.95\t   388.38\t  1.85\n",
      "8 \t 18.17\t   337.00\t   299.58\t    10.49\t   733.83\t  1.90\n",
      "9 \t 23.63\t   449.00\t   509.98\t    12.19\t  1249.19\t  1.95\n",
      "10 \t 29.54\t   551.00\t   568.87\t    12.42\t  1393.44\t  2.00\n",
      "correct amount of layers\n"
     ]
    }
   ],
   "source": [
    "with open(f\"{path2}{lst_file2[8]}\", 'r') as fin:\n",
    "    text_file2 = fin.readlines()\n",
    "\n",
    "# for key, line in enumerate(text_file):\n",
    "#     print(key , line.strip())\n",
    "\n",
    "print('''\n",
    "Check Layers and count---------------\n",
    "''')\n",
    "layers = 10\n",
    "for key, line in enumerate(text_file2[-15:-5], 1):\n",
    "    print(key,\"\\t\", line.strip())\n",
    "if key == 10:\n",
    "    print('correct amount of layers')\n",
    "else:\n",
    "    print('Check layers')"
   ]
  },
  {
   "cell_type": "code",
   "execution_count": 63,
   "metadata": {},
   "outputs": [
    {
     "name": "stdout",
     "output_type": "stream",
     "text": [
      "yes\n"
     ]
    }
   ],
   "source": [
    "if os.path.exists(processed_path2) == True:\n",
    "    print(\"yes\")"
   ]
  },
  {
   "cell_type": "code",
   "execution_count": 65,
   "metadata": {},
   "outputs": [
    {
     "name": "stdout",
     "output_type": "stream",
     "text": [
      "folder already created\n",
      "file name 2001\n"
     ]
    }
   ],
   "source": [
    "processed_path2 = path2 + \"processed\\\\\"\n",
    "\n",
    "try:\n",
    "    if os.path.exists(processed_path2) == True:\n",
    "        print(\"folder already created\")\n",
    "    else:\n",
    "        os.mkdir(processed_path2)\n",
    "        print(\"Processed path is created\")\n",
    "except:\n",
    "    print(\"Folder Exists deleting folder creating new processed folder\")\n",
    "    shutil.rmtree(processed_path2)\n",
    "    os.mkdir(processed_path2)\n",
    "    print(\"Processed path is created\")\n",
    "    \n",
    "print('file name', lst_file2[0][32:36])   ##########CHANGE STRING INDEX HERE"
   ]
  },
  {
   "cell_type": "code",
   "execution_count": 67,
   "metadata": {
    "scrolled": true
   },
   "outputs": [
    {
     "name": "stdout",
     "output_type": "stream",
     "text": [
      "Processed 2001 2002 2003 2004 2005 2006 2007 2008 2009 2010 2011 2012 2013 2014 2015 2016 2017 2018 2019 2020 2021 2022 2023 2024 2025 2026 2027 2028 2029 2030 2031 \n",
      "File made and located\n",
      "C:\\Users\\Ninja\\Documents\\MASW\\Dundass_Road_MASW\\Dundass_Road_MASW\\SG2\\MASW2\\revision_3\\10_layer_25m_updated_12th_21pick\\processed\\LINE2_ALL_10L_25m_equal_distance.txt\n"
     ]
    }
   ],
   "source": [
    "output_file2 = f\"{processed_path2}LINE2_ALL_10L_25m_equal_distance.txt\"    ##############CHANGE LINE HERE\n",
    "\n",
    "if os.path.exists(output_file2):\n",
    "    print(\"Removing exiisting file, create again\")\n",
    "    os.remove(output_file2)\n",
    "\n",
    "print(\"Processed\", end=\" \")\n",
    "for i in range(len(lst_file2)):\n",
    "    line_name = lst_file2[i][32:36]\n",
    "    with open(f\"{path2}{lst_file2[i]}\", 'r') as fin:\n",
    "        text_file = fin.readlines()\n",
    "    #extracting relevant location of the data\n",
    "    for key, line in enumerate(text_file[-15:-5]):\n",
    "        #print(key , line.strip())\n",
    "        new_text_line = line.split()\n",
    "#         print(new_text_line)\n",
    "        with open(output_file2, \"a\") as fout:\n",
    "            line = 1  # change this for each line\n",
    "            station_num = str(line_name) # string is required to be reference to in a dictionary\n",
    "            easting = station[station_num]['easting'] \n",
    "            northing = station[station_num]['northing']\n",
    "            elevation = station[station_num]['elevation']\n",
    "            select_one_depth_vs = f\"{line}\\t{station_num}\\t{easting}\\t{northing}\\t{elevation}\\t{new_text_line[0]}\\t{new_text_line[1]}\\n\"\n",
    "            #print(select_one_depth_vs)\n",
    "            fout.write(select_one_depth_vs)\n",
    "    print(line_name, end=\" \")\n",
    "print()\n",
    "print(f'File made and located\\n{output_file2}')"
   ]
  },
  {
   "cell_type": "code",
   "execution_count": null,
   "metadata": {},
   "outputs": [],
   "source": []
  },
  {
   "cell_type": "code",
   "execution_count": null,
   "metadata": {},
   "outputs": [],
   "source": []
  },
  {
   "cell_type": "code",
   "execution_count": null,
   "metadata": {},
   "outputs": [],
   "source": []
  },
  {
   "cell_type": "code",
   "execution_count": null,
   "metadata": {},
   "outputs": [],
   "source": []
  },
  {
   "cell_type": "markdown",
   "metadata": {},
   "source": [
    "# LINE 3  Converting all files into to a new format for Gridding"
   ]
  },
  {
   "cell_type": "code",
   "execution_count": 88,
   "metadata": {},
   "outputs": [
    {
     "name": "stdout",
     "output_type": "stream",
     "text": [
      "['Line3_LOW_(ActiveOT)(CombinedOT)(3001).LST', 'Line3_LOW_(ActiveOT)(CombinedOT)(3002).LST']\n"
     ]
    },
    {
     "data": {
      "text/plain": [
       "'3001'"
      ]
     },
     "execution_count": 88,
     "metadata": {},
     "output_type": "execute_result"
    }
   ],
   "source": [
    "############## Changed this path for each converison\n",
    "path3 = \"C:\\\\Users\\\\Ninja\\\\Documents\\\\MASW\\\\Dundass_Road_MASW\\\\Dundass_Road_MASW\\\\SG2\\\\MASW3\\\\Line3_Rev4\\\\13_layer_22m\"\n",
    "file_list3 = os.listdir(path3)\n",
    "lst_file3 = [line for line in file_list3 if '.LST' in line]\n",
    "print(lst_file3[:2])\n",
    "lst_file3[0]\n",
    "lst_file3[0][33:37]"
   ]
  },
  {
   "cell_type": "code",
   "execution_count": 96,
   "metadata": {},
   "outputs": [
    {
     "name": "stdout",
     "output_type": "stream",
     "text": [
      "C:\\Users\\Ninja\\Documents\\MASW\\Dundass_Road_MASW\\Dundass_Road_MASW\\SG2\\MASW3\\Line3_Rev4\\13_layer_22mLine3_LOW_(ActiveOT)(CombinedOT)(3002).LST\n"
     ]
    }
   ],
   "source": [
    "print(f\"{path3}{lst_file3[1]}\")"
   ]
  },
  {
   "cell_type": "code",
   "execution_count": 97,
   "metadata": {},
   "outputs": [
    {
     "ename": "FileNotFoundError",
     "evalue": "[Errno 2] No such file or directory: 'C:\\\\Users\\\\Ninja\\\\Documents\\\\MASW\\\\Dundass_Road_MASW\\\\Dundass_Road_MASW\\\\SG2\\\\MASW3\\\\Line3_Rev4\\\\13_layer_22mLine3_LOW_(ActiveOT)(CombinedOT)(3002).LST'",
     "output_type": "error",
     "traceback": [
      "\u001b[1;31m---------------------------------------------------------------------------\u001b[0m",
      "\u001b[1;31mFileNotFoundError\u001b[0m                         Traceback (most recent call last)",
      "\u001b[1;32m<ipython-input-97-79c1d0296b24>\u001b[0m in \u001b[0;36m<module>\u001b[1;34m\u001b[0m\n\u001b[1;32m----> 1\u001b[1;33m \u001b[1;32mwith\u001b[0m \u001b[0mopen\u001b[0m\u001b[1;33m(\u001b[0m\u001b[1;34mf\"{path3}{lst_file3[1]}\"\u001b[0m\u001b[1;33m,\u001b[0m \u001b[1;34m'r'\u001b[0m\u001b[1;33m)\u001b[0m \u001b[1;32mas\u001b[0m \u001b[0mfin\u001b[0m\u001b[1;33m:\u001b[0m\u001b[1;33m\u001b[0m\u001b[1;33m\u001b[0m\u001b[0m\n\u001b[0m\u001b[0;32m      2\u001b[0m     \u001b[0mtext_file3\u001b[0m \u001b[1;33m=\u001b[0m \u001b[0mfin\u001b[0m\u001b[1;33m.\u001b[0m\u001b[0mreadlines\u001b[0m\u001b[1;33m(\u001b[0m\u001b[1;33m)\u001b[0m\u001b[1;33m\u001b[0m\u001b[1;33m\u001b[0m\u001b[0m\n\u001b[0;32m      3\u001b[0m \u001b[1;33m\u001b[0m\u001b[0m\n\u001b[0;32m      4\u001b[0m \u001b[1;31m# for key, line in enumerate(text_file):\u001b[0m\u001b[1;33m\u001b[0m\u001b[1;33m\u001b[0m\u001b[1;33m\u001b[0m\u001b[0m\n\u001b[0;32m      5\u001b[0m \u001b[1;31m#     print(key , line.strip())\u001b[0m\u001b[1;33m\u001b[0m\u001b[1;33m\u001b[0m\u001b[1;33m\u001b[0m\u001b[0m\n",
      "\u001b[1;31mFileNotFoundError\u001b[0m: [Errno 2] No such file or directory: 'C:\\\\Users\\\\Ninja\\\\Documents\\\\MASW\\\\Dundass_Road_MASW\\\\Dundass_Road_MASW\\\\SG2\\\\MASW3\\\\Line3_Rev4\\\\13_layer_22mLine3_LOW_(ActiveOT)(CombinedOT)(3002).LST'"
     ]
    }
   ],
   "source": [
    "with open(f\"{path3}{lst_file3[1]}\", 'r') as fin:\n",
    "    text_file3 = fin.readlines()\n",
    "\n",
    "# for key, line in enumerate(text_file):\n",
    "#     print(key , line.strip())\n",
    "\n",
    "print('''\n",
    "------   Check Layers and Count  ---------------\n",
    "''')\n",
    "layers = 10\n",
    "for key, line in enumerate(text_file2[-15:-5], 1):\n",
    "    print(key,\"\\t\", line.strip())\n",
    "if key == 10:\n",
    "    print('correct amount of layers')\n",
    "else:\n",
    "    print('Check layers')"
   ]
  },
  {
   "cell_type": "code",
   "execution_count": 72,
   "metadata": {},
   "outputs": [
    {
     "name": "stdout",
     "output_type": "stream",
     "text": [
      "folder already created\n",
      "file name 3001\n"
     ]
    }
   ],
   "source": [
    "processed_path3 = path3 + \"processed\\\\\"\n",
    "\n",
    "try:\n",
    "    if os.path.exists(processed_path3) == True:\n",
    "        print(\"folder already created\")\n",
    "    else:\n",
    "        os.mkdir(processed_path3)\n",
    "        print(\"Processed path is created\")\n",
    "except:\n",
    "    print(\"Folder Exists deleting folder creating new processed folder\")\n",
    "    shutil.rmtree(processed_path3)\n",
    "    os.mkdir(processed_path3)\n",
    "    print(\"Processed path is created\")\n",
    "    \n",
    "print('file name', lst_file3[0][33:37])   ##########CHANGE STRING INDEX HERE"
   ]
  },
  {
   "cell_type": "code",
   "execution_count": 74,
   "metadata": {
    "scrolled": true
   },
   "outputs": [
    {
     "name": "stdout",
     "output_type": "stream",
     "text": [
      "Processed 3001 3002 3003 3004 3005 3006 3007 3008 3009 3010 3011 3012 3013 3014 3015 3016 3017 3018 3019 3020 3021 \n",
      "File made and located\n",
      "C:\\Users\\Ninja\\Documents\\MASW\\Dundass_Road_MASW\\Dundass_Road_MASW\\SG2\\MASW3\\Line3_Rev4\\10_layer_22m_1-2-3-21\\processed\\LINE3_ALL_10L_25m_equal_distance.txt\n"
     ]
    }
   ],
   "source": [
    "output_file3 = f\"{processed_path3}LINE3_ALL_13L_25m_equal_distance.txt\"    ##############CHANGE LINE HERE\n",
    "\n",
    "if os.path.exists(output_file2):\n",
    "    print(\"Removing exiisting file, create again\")\n",
    "    os.remove(output_file2)\n",
    "\n",
    "print(\"Processed\", end=\" \")\n",
    "for i in range(len(lst_file3)):\n",
    "    line_name = lst_file3[i][33:37]\n",
    "    with open(f\"{path3}{lst_file3[i]}\", 'r') as fin:\n",
    "        text_file = fin.readlines()\n",
    "    #extracting relevant location of the data\n",
    "    for key, line in enumerate(text_file[-15:-5]):\n",
    "        #print(key , line.strip())\n",
    "        new_text_line = line.split()\n",
    "#         print(new_text_line)\n",
    "        with open(output_file2, \"a\") as fout:\n",
    "            line = 1  # change this for each line\n",
    "            station_num = str(line_name) # string is required to be reference to in a dictionary\n",
    "            easting = station[station_num]['easting'] \n",
    "            northing = station[station_num]['northing']\n",
    "            elevation = station[station_num]['elevation']\n",
    "            select_one_depth_vs = f\"{line}\\t{station_num}\\t{easting}\\t{northing}\\t{elevation}\\t{new_text_line[0]}\\t{new_text_line[1]}\\n\"\n",
    "            #print(select_one_depth_vs)\n",
    "            fout.write(select_one_depth_vs)\n",
    "    print(line_name, end=\" \")\n",
    "print()\n",
    "print(f'File made and located\\n{output_file3}')"
   ]
  },
  {
   "cell_type": "code",
   "execution_count": null,
   "metadata": {},
   "outputs": [],
   "source": []
  },
  {
   "cell_type": "code",
   "execution_count": null,
   "metadata": {},
   "outputs": [],
   "source": []
  },
  {
   "cell_type": "code",
   "execution_count": null,
   "metadata": {},
   "outputs": [],
   "source": []
  },
  {
   "cell_type": "code",
   "execution_count": null,
   "metadata": {},
   "outputs": [],
   "source": []
  },
  {
   "cell_type": "code",
   "execution_count": null,
   "metadata": {},
   "outputs": [],
   "source": []
  },
  {
   "cell_type": "code",
   "execution_count": null,
   "metadata": {},
   "outputs": [],
   "source": []
  },
  {
   "cell_type": "code",
   "execution_count": null,
   "metadata": {},
   "outputs": [],
   "source": []
  },
  {
   "cell_type": "code",
   "execution_count": null,
   "metadata": {},
   "outputs": [],
   "source": []
  },
  {
   "cell_type": "code",
   "execution_count": null,
   "metadata": {},
   "outputs": [],
   "source": []
  },
  {
   "cell_type": "markdown",
   "metadata": {},
   "source": [
    "# Line 1 QC"
   ]
  },
  {
   "cell_type": "code",
   "execution_count": null,
   "metadata": {},
   "outputs": [],
   "source": [
    "plt.figure(figsize=(10,10), facecolor='white')\n",
    "font = {'family': 'arial',\n",
    "        'color':  'darkred',\n",
    "        'weight': 'normal',\n",
    "        'size': 20,\n",
    "        }\n",
    "for i in range(len(lst_file)):\n",
    "    line_name = lst_file[i][28:32]\n",
    "\n",
    "    x = list()\n",
    "    with open(f\"{path}{lst_file[i]}\", 'r') as fin:\n",
    "        text_file = fin.readlines()\n",
    "    #extracting relevant location of the data\n",
    "    for key, line in enumerate(text_file[-15:-5]):\n",
    "        #print(key , line.strip())\n",
    "        new_text_line = line.split()\n",
    "        x.append(new_text_line)\n",
    "    #print(x)\n",
    "\n",
    "    zz = [['DEPTH', 'INITIAL Vs', 'INVERTED Vs', 'R-M-S E of Vs',   'Vp' , 'DENSITY']]\n",
    "    for i in x:\n",
    "        z = []\n",
    "        for j in i:\n",
    "            z.append(float(j))\n",
    "        zz.append(z)\n",
    "\n",
    "    data = pd.DataFrame(zz[1:], columns=zz[0])\n",
    "    data.head()\n",
    "    plt.plot( data['INITIAL Vs'],data['DEPTH'], label=line_name )\n",
    "    plt.ylim(35,0)\n",
    "plt.legend(loc=4, title='Station')\n",
    "plt.xlabel(\"Shear Wave Velocity (m/s)\", fontdict=font)\n",
    "plt.ylabel(\"Depth (m)\", fontdict=font)\n",
    "plt.title(\"LINE 1 : Depth vs Shear Wave Velocity (Vs)\", fontdict=font)\n",
    "plt.savefig('Line1_QC.png')"
   ]
  },
  {
   "cell_type": "code",
   "execution_count": null,
   "metadata": {},
   "outputs": [],
   "source": []
  },
  {
   "cell_type": "code",
   "execution_count": null,
   "metadata": {},
   "outputs": [],
   "source": []
  },
  {
   "cell_type": "code",
   "execution_count": null,
   "metadata": {},
   "outputs": [],
   "source": []
  },
  {
   "cell_type": "markdown",
   "metadata": {},
   "source": [
    "# Line 2"
   ]
  },
  {
   "cell_type": "code",
   "execution_count": null,
   "metadata": {},
   "outputs": [],
   "source": [
    "path2 = \"C:\\\\Users\\\\Ninja\\\\Documents\\\\MASW\\\\Dundass_Road_MASW\\\\Dundass_Road_MASW\\\\SG2\\\\MASW2\\\\revision_3\\\\10_layer_25m_updated_12th_21pick\\\\\"\n",
    "file_list2 = os.listdir(path2)\n",
    "lst_file2 = [line for line in file_list2 if '.LST' in line]\n",
    "lst_file2[0]\n",
    "lst_file2[0][32:36]"
   ]
  },
  {
   "cell_type": "code",
   "execution_count": null,
   "metadata": {},
   "outputs": [],
   "source": [
    "plt.figure(figsize=(10,10), facecolor='white')\n",
    "font = {'family': 'arial',\n",
    "        'color':  'darkred',\n",
    "        'weight': 'normal',\n",
    "        'size': 20,\n",
    "        }\n",
    "\n",
    "\n",
    "for i in range(len(lst_file2)):\n",
    "    line_name = lst_file2[i][32:36]\n",
    "\n",
    "    x = list()\n",
    "    with open(f\"{path2}{lst_file2[i]}\", 'r') as fin:\n",
    "        text_file = fin.readlines()\n",
    "    #extracting relevant location of the data\n",
    "    for key, line in enumerate(text_file[-15:-5]):\n",
    "        #print(key , line.strip())\n",
    "        new_text_line = line.split()\n",
    "        x.append(new_text_line)\n",
    "    #print(x)\n",
    "\n",
    "    zz = [['DEPTH', 'INITIAL Vs', 'INVERTED Vs', 'R-M-S E of Vs',   'Vp' , 'DENSITY']]\n",
    "    for i in x:\n",
    "        z = []\n",
    "        for j in i:\n",
    "            z.append(float(j))\n",
    "        zz.append(z)\n",
    "\n",
    "    data = pd.DataFrame(zz[1:], columns=zz[0])\n",
    "    data.head()\n",
    "    plt.plot( data['INITIAL Vs'],data['DEPTH'], label=line_name )\n",
    "    plt.ylim(38,0)\n",
    "plt.legend(loc=4, title='Station')\n",
    "plt.xlabel(\"Shear Wave Velocity (m/s)\", fontdict=font)\n",
    "plt.ylabel(\"Depth (m)\", fontdict=font)\n",
    "plt.title(\"LINE 2 : Depth vs Shear Wave Velocity (Vs)\", fontdict=font)\n",
    "plt.savefig('line2.png')"
   ]
  },
  {
   "cell_type": "code",
   "execution_count": null,
   "metadata": {},
   "outputs": [],
   "source": []
  },
  {
   "cell_type": "code",
   "execution_count": null,
   "metadata": {},
   "outputs": [],
   "source": []
  },
  {
   "cell_type": "markdown",
   "metadata": {},
   "source": [
    "# Line 3"
   ]
  },
  {
   "cell_type": "code",
   "execution_count": null,
   "metadata": {},
   "outputs": [],
   "source": [
    "path3 = \"C:\\\\Users\\\\Ninja\\\\Documents\\\\MASW\\\\Dundass_Road_MASW\\\\Dundass_Road_MASW\\\\SG2\\\\MASW3\\\\Line3_Rev4\\\\10_layer_22m_1-2-3-21\\\\\"\n",
    "file_list3 = os.listdir(path3)\n",
    "lst_file3 = [line for line in file_list3 if '.LST' in line]\n",
    "lst_file3[0]\n",
    "lst_file3[0][33:37]"
   ]
  },
  {
   "cell_type": "code",
   "execution_count": null,
   "metadata": {},
   "outputs": [],
   "source": [
    "plt.figure(figsize=(10,10), facecolor='white')\n",
    "font = {'family': 'arial',\n",
    "        'color':  'darkred',\n",
    "        'weight': 'normal',\n",
    "        'size': 20,\n",
    "        }\n",
    "\n",
    "\n",
    "for i in range(len(lst_file3)):\n",
    "    line_name = lst_file3[i][33:37]\n",
    "\n",
    "    x = list()\n",
    "    with open(f\"{path3}{lst_file3[i]}\", 'r') as fin:\n",
    "        text_file = fin.readlines()\n",
    "    #extracting relevant location of the data\n",
    "    for key, line in enumerate(text_file[-15:-5]):\n",
    "        #print(key , line.strip())\n",
    "        new_text_line = line.split()\n",
    "        x.append(new_text_line)\n",
    "    #print(x)\n",
    "\n",
    "    zz = [['DEPTH', 'INITIAL Vs', 'INVERTED Vs', 'R-M-S E of Vs',   'Vp' , 'DENSITY']]\n",
    "    for i in x:\n",
    "        z = []\n",
    "        for j in i:\n",
    "            z.append(float(j))\n",
    "        zz.append(z)\n",
    "\n",
    "    data = pd.DataFrame(zz[1:], columns=zz[0])\n",
    "    data.head()\n",
    "    plt.plot( data['INITIAL Vs'],data['DEPTH'], label=line_name )\n",
    "    plt.ylim(43,0)\n",
    "plt.legend(loc=4, title='Station')\n",
    "plt.xlabel(\"Shear Wave Velocity (m/s)\", fontdict=font)\n",
    "plt.ylabel(\"Depth (m)\", fontdict=font)\n",
    "plt.title(\"LINE 3 : Depth vs Shear Wave Velocity (Vs)\", fontdict=font)\n",
    "plt.savefig(\"line3.png\")"
   ]
  },
  {
   "cell_type": "code",
   "execution_count": null,
   "metadata": {},
   "outputs": [],
   "source": []
  }
 ],
 "metadata": {
  "kernelspec": {
   "display_name": "Python 3",
   "language": "python",
   "name": "python3"
  },
  "language_info": {
   "codemirror_mode": {
    "name": "ipython",
    "version": 3
   },
   "file_extension": ".py",
   "mimetype": "text/x-python",
   "name": "python",
   "nbconvert_exporter": "python",
   "pygments_lexer": "ipython3",
   "version": "3.7.1"
  }
 },
 "nbformat": 4,
 "nbformat_minor": 2
}
