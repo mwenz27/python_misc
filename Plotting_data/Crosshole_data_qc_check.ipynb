{
 "cells": [
  {
   "cell_type": "markdown",
   "metadata": {},
   "source": [
    "## Crosshole data QC"
   ]
  },
  {
   "cell_type": "code",
   "execution_count": 1,
   "metadata": {},
   "outputs": [],
   "source": [
    "%matplotlib inline\n",
    "import numpy as np\n",
    "import pandas as pd\n",
    "import os\n",
    "import matplotlib.pyplot as plt"
   ]
  },
  {
   "cell_type": "code",
   "execution_count": 2,
   "metadata": {},
   "outputs": [],
   "source": [
    "file_path = 'C:\\\\Dundass_Road_Crosshole\\\\BH2_1\\\\'\n",
    "# remember to add \\\\ spaces for windows"
   ]
  },
  {
   "cell_type": "markdown",
   "metadata": {},
   "source": [
    "## listing files"
   ]
  },
  {
   "cell_type": "code",
   "execution_count": 4,
   "metadata": {},
   "outputs": [],
   "source": [
    "file_list = os.listdir(file_path)"
   ]
  },
  {
   "cell_type": "code",
   "execution_count": 22,
   "metadata": {},
   "outputs": [
    {
     "name": "stdout",
     "output_type": "stream",
     "text": [
      "['600101.3PK', '600101.dat', '600102.3PK', '600102.dat', '600103.3PK', '600103.dat', '600104.3PK', '600104.dat', '600105.3PK', '600105.dat', '600106.3PK', '600106.dat', '600107.3PK', '600107.dat', '600108.3PK', '600108.dat', '600109.3PK', '600109.dat', '600110.dat', '600111.dat', '600112.dat', '600113.dat', '600114.dat', '600115.dat', '600116.dat', '600117.dat', '600118.dat', '600119.dat', '600120.dat', '600121.dat', '600122.dat', '600123.dat', '600124.dat', '600201.dat', '600202.dat', '600203.dat', '600204.dat', '600205.dat', '600206.dat', '600207.dat', '600208.dat', '600209.dat', '600210.dat', '600211.dat', '600212.dat', '600213.dat', '600214.dat', '600215.dat', '600216.dat', '600217.dat', '600218.dat', '600219.dat', '600220.dat', '600221.dat', '600222.dat', '600223.dat', '600224.dat', 'BH2_1-1.jpg', 'BH2_1-2.jpg']\n"
     ]
    }
   ],
   "source": [
    "print(file_list[:])"
   ]
  },
  {
   "cell_type": "code",
   "execution_count": 5,
   "metadata": {},
   "outputs": [],
   "source": [
    "cross_list = [line for line in file_list if '.3PK' in line]"
   ]
  },
  {
   "cell_type": "code",
   "execution_count": 6,
   "metadata": {},
   "outputs": [
    {
     "name": "stdout",
     "output_type": "stream",
     "text": [
      "['600101.3PK', '600102.3PK', '600103.3PK', '600104.3PK', '600105.3PK', '600106.3PK', '600107.3PK', '600108.3PK', '600109.3PK']\n"
     ]
    }
   ],
   "source": [
    "print(cross_list)"
   ]
  },
  {
   "cell_type": "code",
   "execution_count": 24,
   "metadata": {},
   "outputs": [
    {
     "data": {
      "text/html": [
       "<div>\n",
       "<style scoped>\n",
       "    .dataframe tbody tr th:only-of-type {\n",
       "        vertical-align: middle;\n",
       "    }\n",
       "\n",
       "    .dataframe tbody tr th {\n",
       "        vertical-align: top;\n",
       "    }\n",
       "\n",
       "    .dataframe thead th {\n",
       "        text-align: right;\n",
       "    }\n",
       "</style>\n",
       "<table border=\"1\" class=\"dataframe\">\n",
       "  <thead>\n",
       "    <tr style=\"text-align: right;\">\n",
       "      <th></th>\n",
       "      <th>pick</th>\n",
       "      <th>s-x</th>\n",
       "      <th>s-y</th>\n",
       "      <th>s-z</th>\n",
       "      <th>r-x</th>\n",
       "      <th>y-y</th>\n",
       "      <th>r-z</th>\n",
       "      <th>a</th>\n",
       "      <th>b</th>\n",
       "      <th>c</th>\n",
       "      <th>d</th>\n",
       "      <th>e</th>\n",
       "      <th>f</th>\n",
       "      <th>g</th>\n",
       "      <th>i</th>\n",
       "    </tr>\n",
       "  </thead>\n",
       "  <tbody>\n",
       "    <tr>\n",
       "      <th>0</th>\n",
       "      <td>1</td>\n",
       "      <td>66588.856</td>\n",
       "      <td>263816.48</td>\n",
       "      <td>13.379</td>\n",
       "      <td>66586.449</td>\n",
       "      <td>263826.195</td>\n",
       "      <td>29.36</td>\n",
       "      <td>10.9687</td>\n",
       "      <td>-4496</td>\n",
       "      <td>11.4375</td>\n",
       "      <td>25600</td>\n",
       "      <td>11.8750</td>\n",
       "      <td>-42640.0</td>\n",
       "      <td>12.2812</td>\n",
       "      <td>1.0</td>\n",
       "    </tr>\n",
       "    <tr>\n",
       "      <th>1</th>\n",
       "      <td>2</td>\n",
       "      <td>66588.856</td>\n",
       "      <td>263816.48</td>\n",
       "      <td>13.379</td>\n",
       "      <td>66586.449</td>\n",
       "      <td>263826.195</td>\n",
       "      <td>27.36</td>\n",
       "      <td>10.0312</td>\n",
       "      <td>-91990</td>\n",
       "      <td>13.0000</td>\n",
       "      <td>51650</td>\n",
       "      <td>13.6250</td>\n",
       "      <td>963.8</td>\n",
       "      <td>-0.0312</td>\n",
       "      <td>1.0</td>\n",
       "    </tr>\n",
       "    <tr>\n",
       "      <th>2</th>\n",
       "      <td>3</td>\n",
       "      <td>66588.856</td>\n",
       "      <td>263816.48</td>\n",
       "      <td>13.379</td>\n",
       "      <td>66586.449</td>\n",
       "      <td>263826.195</td>\n",
       "      <td>25.36</td>\n",
       "      <td>9.0625</td>\n",
       "      <td>-22520</td>\n",
       "      <td>9.5000</td>\n",
       "      <td>104800</td>\n",
       "      <td>9.9062</td>\n",
       "      <td>-114400.0</td>\n",
       "      <td>10.3750</td>\n",
       "      <td>1.0</td>\n",
       "    </tr>\n",
       "    <tr>\n",
       "      <th>3</th>\n",
       "      <td>4</td>\n",
       "      <td>66588.856</td>\n",
       "      <td>263816.48</td>\n",
       "      <td>13.379</td>\n",
       "      <td>66586.449</td>\n",
       "      <td>263826.195</td>\n",
       "      <td>23.36</td>\n",
       "      <td>8.1250</td>\n",
       "      <td>-42500</td>\n",
       "      <td>8.5312</td>\n",
       "      <td>191900</td>\n",
       "      <td>8.9062</td>\n",
       "      <td>-165200.0</td>\n",
       "      <td>9.3437</td>\n",
       "      <td>1.0</td>\n",
       "    </tr>\n",
       "    <tr>\n",
       "      <th>4</th>\n",
       "      <td>5</td>\n",
       "      <td>66588.856</td>\n",
       "      <td>263816.48</td>\n",
       "      <td>13.379</td>\n",
       "      <td>66586.449</td>\n",
       "      <td>263826.195</td>\n",
       "      <td>21.36</td>\n",
       "      <td>6.9688</td>\n",
       "      <td>-118000</td>\n",
       "      <td>7.5625</td>\n",
       "      <td>467400</td>\n",
       "      <td>7.9062</td>\n",
       "      <td>-290500.0</td>\n",
       "      <td>8.4375</td>\n",
       "      <td>1.0</td>\n",
       "    </tr>\n",
       "  </tbody>\n",
       "</table>\n",
       "</div>"
      ],
      "text/plain": [
       "   pick        s-x        s-y     s-z        r-x         y-y    r-z        a  \\\n",
       "0     1  66588.856  263816.48  13.379  66586.449  263826.195  29.36  10.9687   \n",
       "1     2  66588.856  263816.48  13.379  66586.449  263826.195  27.36  10.0312   \n",
       "2     3  66588.856  263816.48  13.379  66586.449  263826.195  25.36   9.0625   \n",
       "3     4  66588.856  263816.48  13.379  66586.449  263826.195  23.36   8.1250   \n",
       "4     5  66588.856  263816.48  13.379  66586.449  263826.195  21.36   6.9688   \n",
       "\n",
       "        b        c       d        e         f        g    i  \n",
       "0   -4496  11.4375   25600  11.8750  -42640.0  12.2812  1.0  \n",
       "1  -91990  13.0000   51650  13.6250     963.8  -0.0312  1.0  \n",
       "2  -22520   9.5000  104800   9.9062 -114400.0  10.3750  1.0  \n",
       "3  -42500   8.5312  191900   8.9062 -165200.0   9.3437  1.0  \n",
       "4 -118000   7.5625  467400   7.9062 -290500.0   8.4375  1.0  "
      ]
     },
     "execution_count": 24,
     "metadata": {},
     "output_type": "execute_result"
    },
    {
     "data": {
      "image/png": "[encoded data removed]",
      "text/plain": [
       "<Figure size 432x288 with 1 Axes>"
      ]
     },
     "metadata": {
      "needs_background": "light"
     },
     "output_type": "display_data"
    }
   ],
   "source": [
    "for key, line in enumerate(cross_list):\n",
    "    df = pd.read_csv(f'{file_path}{line}', delimiter=r\"\\s+\", \n",
    "                     names=['pick','s-x','s-y','s-z','r-x','y-y','r-z',\n",
    "                           'a','b','c','d','e','f','g', 'i'])\n",
    "    string = line.rstrip('.3PK')\n",
    "    plt.plot( df['pick'], df['s-z'], label=string)\n",
    "    plt.legend(loc=4, title='Line')\n",
    "\n",
    "\n",
    "df.head()\n"
   ]
  },
  {
   "cell_type": "code",
   "execution_count": null,
   "metadata": {},
   "outputs": [],
   "source": []
  },
  {
   "cell_type": "code",
   "execution_count": null,
   "metadata": {},
   "outputs": [],
   "source": []
  }
 ],
 "metadata": {
  "kernelspec": {
   "display_name": "Python 3",
   "language": "python",
   "name": "python3"
  },
  "language_info": {
   "codemirror_mode": {
    "name": "ipython",
    "version": 3
   },
   "file_extension": ".py",
   "mimetype": "text/x-python",
   "name": "python",
   "nbconvert_exporter": "python",
   "pygments_lexer": "ipython3",
   "version": "3.7.1"
  }
 },
 "nbformat": 4,
 "nbformat_minor": 2
}
