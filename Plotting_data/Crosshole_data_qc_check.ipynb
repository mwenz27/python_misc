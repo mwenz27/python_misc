{
 "cells": [
  {
   "cell_type": "markdown",
   "metadata": {},
   "source": [
    "## Crosshole data QC"
   ]
  },
  {
   "cell_type": "code",
   "execution_count": 1,
   "metadata": {},
   "outputs": [],
   "source": [
    "%matplotlib inline\n",
    "import numpy as np\n",
    "import pandas as pd\n",
    "import os\n",
    "import matplotlib.pyplot as plt"
   ]
  },
  {
   "cell_type": "code",
   "execution_count": 2,
   "metadata": {},
   "outputs": [],
   "source": [
    "file_path = 'C:\\\\Dundass_Road_Crosshole\\\\BH2_1\\\\'\n",
    "# remember to add \\\\ spaces for windows"
   ]
  },
  {
   "cell_type": "markdown",
   "metadata": {},
   "source": [
    "## listing files"
   ]
  },
  {
   "cell_type": "code",
   "execution_count": 63,
   "metadata": {},
   "outputs": [],
   "source": [
    "file_list = os.listdir(file_path)"
   ]
  },
  {
   "cell_type": "code",
   "execution_count": 64,
   "metadata": {},
   "outputs": [
    {
     "name": "stdout",
     "output_type": "stream",
     "text": [
      "['600101.3PK', '600101.dat', '600102.3PK', '600102.dat', '600103.3PK', '600103.dat', '600104.3PK', '600104.dat', '600105.3PK', '600105.dat', '600106.3PK', '600106.dat', '600107.3PK', '600107.dat', '600108.3PK', '600108.dat', '600109.3PK', '600109.dat', '600110.3PK', '600110.dat', '600111.3PK', '600111.dat', '600112.3PK', '600112.dat', '600113.3PK', '600113.dat', '600114.3PK', '600114.dat', '600115.3PK', '600115.dat', '600116.3PK', '600116.dat', '600117.3PK', '600117.dat', '600118.3PK', '600118.dat', '600119.3PK', '600119.dat', '600120.dat', '600121.dat', '600122.dat', '600123.dat', '600124.dat', '600201.dat', '600202.dat', '600203.dat', '600204.dat', '600205.dat', '600206.dat', '600207.dat', '600208.dat', '600209.dat', '600210.dat', '600211.dat', '600212.dat', '600213.dat', '600214.dat', '600215.dat', '600216.dat', '600217.dat', '600218.dat', '600219.dat', '600220.dat', '600221.dat', '600222.dat', '600223.dat', '600224.dat', 'BH2_1-1.jpg', 'BH2_1-2.jpg', 'IMAGE00117.jpg', 'IMAGE00118.jpg', 'IMAGE00119.jpg']\n"
     ]
    }
   ],
   "source": [
    "print(file_list[:])"
   ]
  },
  {
   "cell_type": "code",
   "execution_count": 65,
   "metadata": {},
   "outputs": [],
   "source": [
    "cross_list = [line for line in file_list if '.3PK' in line]"
   ]
  },
  {
   "cell_type": "code",
   "execution_count": 66,
   "metadata": {
    "scrolled": false
   },
   "outputs": [
    {
     "name": "stdout",
     "output_type": "stream",
     "text": [
      "['600101.3PK', '600102.3PK', '600103.3PK', '600104.3PK', '600105.3PK', '600106.3PK', '600107.3PK', '600108.3PK', '600109.3PK', '600110.3PK', '600111.3PK', '600112.3PK', '600113.3PK', '600114.3PK', '600115.3PK', '600116.3PK', '600117.3PK', '600118.3PK', '600119.3PK']\n"
     ]
    }
   ],
   "source": [
    "print(cross_list)"
   ]
  },
  {
   "cell_type": "markdown",
   "metadata": {},
   "source": [
    "## QC for line one"
   ]
  },
  {
   "cell_type": "code",
   "execution_count": 118,
   "metadata": {},
   "outputs": [],
   "source": [
    "def qc_1(s_x, s_y, s_z, source_z,  r_x, r_y, r_z):\n",
    "    source_x, source_y = 66588.856, 263816.48\n",
    "    # check source x\n",
    "    if source_x - s_x == 0 and source_y - s_y == 0 :\n",
    "        source_qc = 'Source-QC--OK'\n",
    "    else:\n",
    "        source_qc = 'Check Source reference'\n",
    "    # check source y\n",
    "    rec_x, rec_y = 66586.449, 263826.195\n",
    "    round(s_z,3)\n",
    "    round(source_z,3)\n",
    "    if round(source_z,3) - round(s_z,3) == 0:\n",
    "        source_depth_qc = 'Source_depth-QC--OK'\n",
    "    else:\n",
    "        source_depth_qc = 'Check Source_depth '\n",
    "        print('\\t', s_z, source_z)\n",
    "        \n",
    "    # check source y\n",
    "    \n",
    "    rec_x, rec_y = 66586.449, 263826.195\n",
    "\n",
    "    if round(rec_x,3) - round(r_x, 3) == 0 and round(rec_y, 3) - r_y == 0:\n",
    "        rec_qc = 'Rec-QC--OK'\n",
    "    else:\n",
    "        rec_qc = 'Check Rec reference'\n",
    "    return source_qc, source_depth_qc, rec_qc\n",
    "    "
   ]
  },
  {
   "cell_type": "markdown",
   "metadata": {},
   "source": [
    "## QC check for each line"
   ]
  },
  {
   "cell_type": "code",
   "execution_count": 131,
   "metadata": {
    "scrolled": true
   },
   "outputs": [
    {
     "name": "stdout",
     "output_type": "stream",
     "text": [
      "600101.3PK channel 1 \t Source_depth-QC--OK \t Source-QC--OK \t Rec-QC--OK\n",
      "600102.3PK channel 1 \t Source_depth-QC--OK \t Source-QC--OK \t Rec-QC--OK\n",
      "600103.3PK channel 1 \t Source_depth-QC--OK \t Source-QC--OK \t Rec-QC--OK\n",
      "600104.3PK channel 1 \t Source_depth-QC--OK \t Source-QC--OK \t Rec-QC--OK\n",
      "600105.3PK channel 1 \t Source_depth-QC--OK \t Source-QC--OK \t Rec-QC--OK\n",
      "600106.3PK channel 1 \t Source_depth-QC--OK \t Source-QC--OK \t Rec-QC--OK\n",
      "600107.3PK channel 1 \t Source_depth-QC--OK \t Source-QC--OK \t Rec-QC--OK\n",
      "600108.3PK channel 1 \t Source_depth-QC--OK \t Source-QC--OK \t Rec-QC--OK\n",
      "600109.3PK channel 1 \t Source_depth-QC--OK \t Source-QC--OK \t Rec-QC--OK\n",
      "600110.3PK channel 1 \t Source_depth-QC--OK \t Source-QC--OK \t Rec-QC--OK\n",
      "600111.3PK channel 1 \t Source_depth-QC--OK \t Source-QC--OK \t Rec-QC--OK\n",
      "600112.3PK channel 1 \t Source_depth-QC--OK \t Source-QC--OK \t Rec-QC--OK\n",
      "600113.3PK channel 1 \t Source_depth-QC--OK \t Source-QC--OK \t Rec-QC--OK\n",
      "600114.3PK channel 1 \t Source_depth-QC--OK \t Source-QC--OK \t Rec-QC--OK\n",
      "600115.3PK channel 1 \t Source_depth-QC--OK \t Source-QC--OK \t Rec-QC--OK\n",
      "600116.3PK channel 1 \t Source_depth-QC--OK \t Source-QC--OK \t Rec-QC--OK\n",
      "600117.3PK channel 1 \t Source_depth-QC--OK \t Source-QC--OK \t Rec-QC--OK\n",
      "600118.3PK channel 1 \t Source_depth-QC--OK \t Source-QC--OK \t Rec-QC--OK\n",
      "600119.3PK channel 1 \t Source_depth-QC--OK \t Source-QC--OK \t Rec-QC--OK\n",
      "600120.3PK channel 1 \t Source_depth-QC--OK \t Source-QC--OK \t Rec-QC--OK\n",
      "600121.3PK channel 1 \t Source_depth-QC--OK \t Source-QC--OK \t Rec-QC--OK\n"
     ]
    },
    {
     "data": {
      "text/html": [
       "<div>\n",
       "<style scoped>\n",
       "    .dataframe tbody tr th:only-of-type {\n",
       "        vertical-align: middle;\n",
       "    }\n",
       "\n",
       "    .dataframe tbody tr th {\n",
       "        vertical-align: top;\n",
       "    }\n",
       "\n",
       "    .dataframe thead th {\n",
       "        text-align: right;\n",
       "    }\n",
       "</style>\n",
       "<table border=\"1\" class=\"dataframe\">\n",
       "  <thead>\n",
       "    <tr style=\"text-align: right;\">\n",
       "      <th></th>\n",
       "      <th>channel</th>\n",
       "      <th>s-x</th>\n",
       "      <th>s-y</th>\n",
       "      <th>s-z</th>\n",
       "      <th>r-x</th>\n",
       "      <th>r-y</th>\n",
       "      <th>r-z</th>\n",
       "      <th>time-cor</th>\n",
       "      <th>amp1</th>\n",
       "      <th>loc1</th>\n",
       "      <th>amp2</th>\n",
       "      <th>loc2</th>\n",
       "      <th>amp3</th>\n",
       "      <th>loc3</th>\n",
       "      <th>dataqual</th>\n",
       "    </tr>\n",
       "  </thead>\n",
       "  <tbody>\n",
       "    <tr>\n",
       "      <th>0</th>\n",
       "      <td>1</td>\n",
       "      <td>66588.856</td>\n",
       "      <td>263816.48</td>\n",
       "      <td>25.379</td>\n",
       "      <td>66586.449</td>\n",
       "      <td>263826.195</td>\n",
       "      <td>29.36</td>\n",
       "      <td>0.0</td>\n",
       "      <td>0.0</td>\n",
       "      <td>7.5312</td>\n",
       "      <td>0</td>\n",
       "      <td>8.1250</td>\n",
       "      <td>0</td>\n",
       "      <td>9.1250</td>\n",
       "      <td>0.0</td>\n",
       "    </tr>\n",
       "    <tr>\n",
       "      <th>1</th>\n",
       "      <td>2</td>\n",
       "      <td>66588.856</td>\n",
       "      <td>263816.48</td>\n",
       "      <td>25.379</td>\n",
       "      <td>66586.449</td>\n",
       "      <td>263826.195</td>\n",
       "      <td>27.36</td>\n",
       "      <td>0.0</td>\n",
       "      <td>0.0</td>\n",
       "      <td>7.8750</td>\n",
       "      <td>0</td>\n",
       "      <td>11.3125</td>\n",
       "      <td>0</td>\n",
       "      <td>18.1562</td>\n",
       "      <td>0.0</td>\n",
       "    </tr>\n",
       "  </tbody>\n",
       "</table>\n",
       "</div>"
      ],
      "text/plain": [
       "   channel        s-x        s-y     s-z        r-x         r-y    r-z  \\\n",
       "0        1  66588.856  263816.48  25.379  66586.449  263826.195  29.36   \n",
       "1        2  66588.856  263816.48  25.379  66586.449  263826.195  27.36   \n",
       "\n",
       "   time-cor  amp1    loc1  amp2     loc2  amp3     loc3  dataqual  \n",
       "0       0.0   0.0  7.5312     0   8.1250     0   9.1250       0.0  \n",
       "1       0.0   0.0  7.8750     0  11.3125     0  18.1562       0.0  "
      ]
     },
     "execution_count": 131,
     "metadata": {},
     "output_type": "execute_result"
    }
   ],
   "source": [
    "file_list = os.listdir(file_path)\n",
    "cross_list = [line for line in file_list if '.3PK' in line]\n",
    "for key, line in enumerate(cross_list[:]):\n",
    "    source_z = 5.379\n",
    "    source_z += key\n",
    "    source_z = round(source_z, 3)\n",
    "    df = pd.read_csv(f'{file_path}{line}', delimiter=r\"\\s+\", \n",
    "                     names=['channel','s-x','s-y','s-z','r-x','r-y','r-z',\n",
    "                           'time-cor','amp1','loc1','amp2','loc2','amp3','loc3', 'dataqual'])\n",
    "    string = line.rstrip('.3PK')\n",
    "\n",
    "    source_qc, source_depth_qc, rec_qc= qc_1(df['s-x'][0], df['s-y'][0], df['s-z'][0], source_z, df['r-x'][0], df['r-y'][0], df['r-z'][0] )\n",
    "    print(line, \n",
    "          'channel', df['channel'][0], '\\t',\n",
    "          source_depth_qc, '\\t',\n",
    "          source_qc, '\\t',\n",
    "          rec_qc\n",
    "          )\n",
    "#     plt.scatter( df['pick'], df['s-z'], label=string)\n",
    "#     plt.legend(loc=4, title='Line')\n",
    "\n",
    "#this is the last line\n",
    "df.head(2)\n",
    "\n"
   ]
  },
  {
   "cell_type": "code",
   "execution_count": null,
   "metadata": {},
   "outputs": [],
   "source": []
  }
 ],
 "metadata": {
  "kernelspec": {
   "display_name": "Python 3",
   "language": "python",
   "name": "python3"
  },
  "language_info": {
   "codemirror_mode": {
    "name": "ipython",
    "version": 3
   },
   "file_extension": ".py",
   "mimetype": "text/x-python",
   "name": "python",
   "nbconvert_exporter": "python",
   "pygments_lexer": "ipython3",
   "version": "3.7.1"
  }
 },
 "nbformat": 4,
 "nbformat_minor": 2
}
