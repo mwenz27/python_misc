{
 "cells": [
  {
   "cell_type": "markdown",
   "metadata": {},
   "source": [
    "# Replacing files"
   ]
  },
  {
   "cell_type": "code",
   "execution_count": 1,
   "metadata": {},
   "outputs": [],
   "source": [
    "import os"
   ]
  },
  {
   "cell_type": "code",
   "execution_count": 2,
   "metadata": {},
   "outputs": [],
   "source": [
    "cross_hole_4 = {\n",
    "    \"name\": \"BH_4\",\n",
    "    \n",
    "    \"Source X\": 66577.570,\n",
    "    \"Source Y\": 263817.322,\n",
    "    \"Rec X\": 66588.856,\n",
    "    \"Rec Y\": 263816.480,\n",
    "\n",
    "    \"Part 1\": [13, 29.379],\n",
    "    \"Part 2\": [12, 28.379],\n",
    "\n",
    "}\n",
    "\n",
    "cross_hole_5 = {\n",
    "     \"name\": \"BH_5\",\n",
    "\n",
    "    \"Source X\": 66579.701,\n",
    "    \"Source Y\": 263809.185,\n",
    "    \"Rec X\": 66588.856,\n",
    "    \"Rec Y\": 263816.48,\n",
    "\n",
    "    \"Part 1\": [13, 29.379],\n",
    "    \"Part 2\": [12, 28.379],\n",
    "\n",
    "}\n"
   ]
  },
  {
   "cell_type": "code",
   "execution_count": 3,
   "metadata": {},
   "outputs": [
    {
     "name": "stdout",
     "output_type": "stream",
     "text": [
      "200101 200201 5.544\n",
      "200102 200202 6.544\n",
      "200103 200203 7.544\n",
      "200104 200204 8.544\n",
      "200105 200205 9.544\n",
      "200106 200206 10.544\n",
      "200107 200207 11.544\n",
      "200108 200208 12.544\n",
      "200109 200209 13.544\n",
      "200110 200210 14.544\n",
      "200111 200211 15.544\n",
      "200112 200212 16.544\n",
      "200113 200213 17.544\n",
      "200114 200214 18.544\n",
      "200115 200215 19.544\n",
      "200116 200216 20.544\n",
      "200117 200217 21.544\n",
      "200118 200218 22.544\n",
      "200119 200219 23.544\n",
      "200120 200220 24.544\n",
      "200121 200221 25.544\n",
      "200122 200222 26.544\n",
      "200123 200223 27.544\n",
      "200124 200224 28.544\n"
     ]
    }
   ],
   "source": [
    "c4_start_num_1 = 200101\n",
    "c4_start_num_2 = 200201\n",
    "c4_start_depth = 5.544\n",
    "for i in range(24):\n",
    "    print(c4_start_num_1, c4_start_num_2, c4_start_depth)\n",
    "    cross_hole_4[str(c4_start_num_1)] = c4_start_depth\n",
    "    cross_hole_4[str(c4_start_num_2)] = c4_start_depth\n",
    "    c4_start_num_1 += 1\n",
    "    c4_start_num_2 += 1\n",
    "    c4_start_depth += 1"
   ]
  },
  {
   "cell_type": "code",
   "execution_count": 4,
   "metadata": {},
   "outputs": [
    {
     "name": "stdout",
     "output_type": "stream",
     "text": [
      "300101 300201 5.58\n",
      "300102 300202 6.58\n",
      "300103 300203 7.58\n",
      "300104 300204 8.58\n",
      "300105 300205 9.58\n",
      "300106 300206 10.58\n",
      "300107 300207 11.58\n",
      "300108 300208 12.58\n",
      "300109 300209 13.58\n",
      "300110 300210 14.58\n",
      "300111 300211 15.58\n",
      "300112 300212 16.58\n",
      "300113 300213 17.58\n",
      "300114 300214 18.58\n",
      "300115 300215 19.58\n",
      "300116 300216 20.58\n",
      "300117 300217 21.58\n",
      "300118 300218 22.58\n",
      "300119 300219 23.58\n",
      "300120 300220 24.58\n",
      "300121 300221 25.58\n",
      "300122 300222 26.58\n",
      "300123 300223 27.58\n",
      "300124 300224 28.58\n"
     ]
    }
   ],
   "source": [
    "c5_start_num_1 = 300101\n",
    "c5_start_num_2 = 300201\n",
    "c5_start_depth = 5.580\n",
    "for i in range(24):\n",
    "    print(c5_start_num_1, c5_start_num_2, c5_start_depth)\n",
    "\n",
    "    cross_hole_5[str(c5_start_num_1)] = c5_start_depth\n",
    "    cross_hole_5[str(c5_start_num_2)] = c5_start_depth\n",
    "    c5_start_num_1 += 1\n",
    "    c5_start_num_2 += 1\n",
    "    c5_start_depth += 1"
   ]
  },
  {
   "cell_type": "code",
   "execution_count": 5,
   "metadata": {},
   "outputs": [
    {
     "data": {
      "text/plain": [
       "28.58"
      ]
     },
     "execution_count": 5,
     "metadata": {},
     "output_type": "execute_result"
    }
   ],
   "source": [
    "cross_hole_5['300124']"
   ]
  },
  {
   "cell_type": "code",
   "execution_count": 6,
   "metadata": {},
   "outputs": [
    {
     "name": "stdout",
     "output_type": "stream",
     "text": [
      "name BH_4\n",
      "Source X 66577.57\n",
      "Source Y 263817.322\n",
      "Rec X 66588.856\n",
      "Rec Y 263816.48\n",
      "Part 1 [13, 29.379]\n",
      "Part 2 [12, 28.379]\n",
      "200101 5.544\n",
      "200201 5.544\n",
      "200102 6.544\n",
      "200202 6.544\n",
      "200103 7.544\n",
      "200203 7.544\n",
      "200104 8.544\n",
      "200204 8.544\n",
      "200105 9.544\n",
      "200205 9.544\n",
      "200106 10.544\n",
      "200206 10.544\n",
      "200107 11.544\n",
      "200207 11.544\n",
      "200108 12.544\n",
      "200208 12.544\n",
      "200109 13.544\n",
      "200209 13.544\n",
      "200110 14.544\n",
      "200210 14.544\n",
      "200111 15.544\n",
      "200211 15.544\n",
      "200112 16.544\n",
      "200212 16.544\n",
      "200113 17.544\n",
      "200213 17.544\n",
      "200114 18.544\n",
      "200214 18.544\n",
      "200115 19.544\n",
      "200215 19.544\n",
      "200116 20.544\n",
      "200216 20.544\n",
      "200117 21.544\n",
      "200217 21.544\n",
      "200118 22.544\n",
      "200218 22.544\n",
      "200119 23.544\n",
      "200219 23.544\n",
      "200120 24.544\n",
      "200220 24.544\n",
      "200121 25.544\n",
      "200221 25.544\n",
      "200122 26.544\n",
      "200222 26.544\n",
      "200123 27.544\n",
      "200223 27.544\n",
      "200124 28.544\n",
      "200224 28.544\n"
     ]
    }
   ],
   "source": [
    "for key, value in cross_hole_4.items():\n",
    "    print(key, value)"
   ]
  },
  {
   "cell_type": "code",
   "execution_count": 20,
   "metadata": {},
   "outputs": [],
   "source": [
    "def end_string(data_list):\n",
    "    new_string = \"\"\n",
    "    for number in data_list[7:15]:\n",
    "        new_string += \" \"*5 + number \n",
    "    return new_string\n",
    "\n",
    "\n",
    "def inserting_reference_to_files(cross_hole_num, part, path):\n",
    "    '''\n",
    "    input dictionary\n",
    "    \"Part 1\"  either 1 or 2\n",
    "    input path\n",
    "    '''\n",
    "    file_list_part = os.listdir(path)\n",
    "    C3PK_file_part = [line for line in file_list_part if '.3PK' in line]\n",
    "    part_dict = f'Part {part}'\n",
    "    print(part_dict)\n",
    "    cross_hole = cross_hole_num\n",
    "    name = cross_hole['name']\n",
    "    processed_path = path + f\"{name}-{part}_processed\\\\\"\n",
    "    try:\n",
    "        os.mkdir(processed_path)\n",
    "        print(\"Processed path is created\")\n",
    "    except:\n",
    "        print(\"Processed Folder already exists\")\n",
    "\n",
    "    for file in C3PK_file_part:\n",
    "        name_of_file = file[:6]            ######## name of the file   \n",
    "        print(name_of_file)        \n",
    "        \n",
    "        with open(f\"{path}{file}\", 'r') as file_read:\n",
    "            data = file_read.readlines()   ######## all lines\n",
    "            #print(data[0])                 ####### read one line to check\n",
    "\n",
    "        output_file = f\"{processed_path}{file}\"\n",
    "        print(output_file)\n",
    "        \n",
    "        if os.path.exists(output_file):\n",
    "            #print(\"Removing exiisting file, creating again\\n\")\n",
    "            os.remove(output_file)\n",
    "                     \n",
    "        with open(output_file, 'a') as file_out:\n",
    "            for key in range(len(data)):               ###############  break each line in reference to the length\n",
    "                \n",
    "                data_line = data[key]                  ########## select the line to write\n",
    "                data_list = data_line.split()           ########### split the line into a list\n",
    "       \n",
    "                s = \" \"\n",
    "                s_x = round(cross_hole[\"Source X\"], 3)\n",
    "                s_y = round(cross_hole[\"Source Y\"], 3)\n",
    "                r_x = round(cross_hole[\"Rec X\"], 3)\n",
    "                r_y = round(cross_hole[\"Rec Y\"], 3)\n",
    "                depth = round(cross_hole[name_of_file],3)\n",
    "                r_depth_chan = round(cross_hole[part_dict][1]-2*key, 3)\n",
    "                if len(str(key+1)) == 1:\n",
    "                    front = s*5\n",
    "                elif len(str(key+1)) == 2:\n",
    "                    front = s*4\n",
    "                new_one_line = f'{front}{key+1}{s*3}{s_x}{s*3}{s_y}{s*7}{depth}{s*5}{r_x}{s*2}{r_y}{s*3}{r_depth_chan}{s*3}{end_string(data_list)}'\n",
    "                if key+1 < len(data):\n",
    "#                     print(key+1, len(data))\n",
    "                    file_out.write(new_one_line+ \"\\n\")\n",
    "                elif key+1 == len(data):\n",
    "                    print(\"last line\")\n",
    "#                     file_out.write(new_one_line)"
   ]
  },
  {
   "cell_type": "code",
   "execution_count": 21,
   "metadata": {},
   "outputs": [
    {
     "name": "stdout",
     "output_type": "stream",
     "text": [
      "Part 1\n",
      "Processed Folder already exists\n",
      "200101\n",
      "C:\\Dundass_Road_Crosshole\\BH4_2\\Config1\\BH_4-1_processed\\200101.3PK\n",
      "1 13\n",
      "2 13\n",
      "3 13\n",
      "4 13\n",
      "5 13\n",
      "6 13\n",
      "7 13\n",
      "8 13\n",
      "9 13\n",
      "10 13\n",
      "11 13\n",
      "12 13\n",
      "last line\n",
      "200102\n",
      "C:\\Dundass_Road_Crosshole\\BH4_2\\Config1\\BH_4-1_processed\\200102.3PK\n",
      "1 13\n",
      "2 13\n",
      "3 13\n",
      "4 13\n",
      "5 13\n",
      "6 13\n",
      "7 13\n",
      "8 13\n",
      "9 13\n",
      "10 13\n",
      "11 13\n",
      "12 13\n",
      "last line\n",
      "200103\n",
      "C:\\Dundass_Road_Crosshole\\BH4_2\\Config1\\BH_4-1_processed\\200103.3PK\n",
      "1 13\n",
      "2 13\n",
      "3 13\n",
      "4 13\n",
      "5 13\n",
      "6 13\n",
      "7 13\n",
      "8 13\n",
      "9 13\n",
      "10 13\n",
      "11 13\n",
      "12 13\n",
      "last line\n"
     ]
    }
   ],
   "source": [
    "part1_path = \"C:\\\\Dundass_Road_Crosshole\\\\BH4_2\\\\Config1\\\\\"\n",
    "inserting_reference_to_files(cross_hole_4, 1, part1_path)"
   ]
  },
  {
   "cell_type": "code",
   "execution_count": 22,
   "metadata": {},
   "outputs": [
    {
     "name": "stdout",
     "output_type": "stream",
     "text": [
      "Part 2\n",
      "Processed Folder already exists\n",
      "200201\n",
      "C:\\Dundass_Road_Crosshole\\BH4_2\\Config2\\BH_4-2_processed\\200201.3PK\n",
      "1 12\n",
      "2 12\n",
      "3 12\n",
      "4 12\n",
      "5 12\n",
      "6 12\n",
      "7 12\n",
      "8 12\n",
      "9 12\n",
      "10 12\n",
      "11 12\n",
      "last line\n",
      "200202\n",
      "C:\\Dundass_Road_Crosshole\\BH4_2\\Config2\\BH_4-2_processed\\200202.3PK\n",
      "1 12\n",
      "2 12\n",
      "3 12\n",
      "4 12\n",
      "5 12\n",
      "6 12\n",
      "7 12\n",
      "8 12\n",
      "9 12\n",
      "10 12\n",
      "11 12\n",
      "last line\n"
     ]
    }
   ],
   "source": [
    "part2_path = \"C:\\\\Dundass_Road_Crosshole\\\\BH4_2\\\\Config2\\\\\"\n",
    "inserting_reference_to_files(cross_hole_4, 2, part2_path)"
   ]
  },
  {
   "cell_type": "code",
   "execution_count": null,
   "metadata": {},
   "outputs": [],
   "source": []
  },
  {
   "cell_type": "code",
   "execution_count": null,
   "metadata": {},
   "outputs": [],
   "source": []
  },
  {
   "cell_type": "code",
   "execution_count": null,
   "metadata": {},
   "outputs": [],
   "source": []
  }
 ],
 "metadata": {
  "kernelspec": {
   "display_name": "Python 3",
   "language": "python",
   "name": "python3"
  },
  "language_info": {
   "codemirror_mode": {
    "name": "ipython",
    "version": 3
   },
   "file_extension": ".py",
   "mimetype": "text/x-python",
   "name": "python",
   "nbconvert_exporter": "python",
   "pygments_lexer": "ipython3",
   "version": "3.7.1"
  }
 },
 "nbformat": 4,
 "nbformat_minor": 2
}
